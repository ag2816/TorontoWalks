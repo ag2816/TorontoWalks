{
 "cells": [
  {
   "cell_type": "markdown",
   "metadata": {},
   "source": [
    "# Match POIs To Neighbourhoods\n",
    "* read City of Toronto OpenData shape file with neighbourhood definitions\n"
   ]
  },
  {
   "cell_type": "code",
   "execution_count": 11,
   "metadata": {},
   "outputs": [],
   "source": [
    "import pandas as pd\n",
    "import altair as alt\n",
    "alt.renderers.enable('notebook') # show and interact ith plots in jupyter notebook\n",
    "import matplotlib.pyplot as plt\n",
    "get_ipython().magic(u'matplotlib inline')"
   ]
  },
  {
   "cell_type": "code",
   "execution_count": 12,
   "metadata": {},
   "outputs": [],
   "source": [
    "import geopandas as gpd"
   ]
  },
  {
   "cell_type": "code",
   "execution_count": 13,
   "metadata": {},
   "outputs": [],
   "source": [
    "def point_inside_polygon(lat,lng,poly):\n",
    "\n",
    "    \"\"\"Return True if the point described by x, y is inside of the polygon\n",
    "    described by the list of points [(x0, y0), (x1, y1), ... (xn, yn)] in\n",
    "    ``poly``\n",
    "    Code from http://www.ariel.com.au/a/python-point-int-poly.html which\n",
    "    in turn was adapted from C code found at\n",
    "    http://local.wasp.uwa.edu.au/~pbourke/geometry/insidepoly/\n",
    "    \n",
    "    https://github.com/craigmbooth/chicago_neighborhood_finder\n",
    "    \n",
    "    poly: a list of lat/long coordinates that define the boundary of an area\n",
    "    \"\"\"\n",
    "    n = len(poly)\n",
    "    inside =False\n",
    "\n",
    "    p1x,p1y = poly[0]\n",
    "    for i in range(n+1):\n",
    "        p2x,p2y = poly[i % n]\n",
    "        if lat > min(p1y,p2y):\n",
    "            if lat <= max(p1y,p2y):\n",
    "                if lng <= max(p1x,p2x):\n",
    "                    if p1y != p2y:\n",
    "                        xinters = (lat-p1y)*(p2x-p1x)/(p2y-p1y)+p1x\n",
    "                    if p1x == p2x or lng <= xinters:\n",
    "                        inside = not inside\n",
    "        p1x,p1y = p2x,p2y\n",
    "\n",
    "    return inside\n"
   ]
  },
  {
   "cell_type": "code",
   "execution_count": 14,
   "metadata": {},
   "outputs": [],
   "source": [
    "df_neighbourhoods = gpd.read_file(\"../data/Neighbourhoods/NEIGHBORHOODS_WGS84.shp\")\n"
   ]
  },
  {
   "cell_type": "code",
   "execution_count": 15,
   "metadata": {},
   "outputs": [
    {
     "data": {
      "text/html": [
       "<div>\n",
       "<style scoped>\n",
       "    .dataframe tbody tr th:only-of-type {\n",
       "        vertical-align: middle;\n",
       "    }\n",
       "\n",
       "    .dataframe tbody tr th {\n",
       "        vertical-align: top;\n",
       "    }\n",
       "\n",
       "    .dataframe thead th {\n",
       "        text-align: right;\n",
       "    }\n",
       "</style>\n",
       "<table border=\"1\" class=\"dataframe\">\n",
       "  <thead>\n",
       "    <tr style=\"text-align: right;\">\n",
       "      <th></th>\n",
       "      <th>AREA_S_CD</th>\n",
       "      <th>AREA_NAME</th>\n",
       "      <th>geometry</th>\n",
       "    </tr>\n",
       "  </thead>\n",
       "  <tbody>\n",
       "    <tr>\n",
       "      <th>0</th>\n",
       "      <td>097</td>\n",
       "      <td>Yonge-St.Clair (97)</td>\n",
       "      <td>POLYGON ((-79.39119482700001 43.681081124, -79...</td>\n",
       "    </tr>\n",
       "    <tr>\n",
       "      <th>1</th>\n",
       "      <td>027</td>\n",
       "      <td>York University Heights (27)</td>\n",
       "      <td>POLYGON ((-79.505287916 43.759873494, -79.5048...</td>\n",
       "    </tr>\n",
       "    <tr>\n",
       "      <th>2</th>\n",
       "      <td>038</td>\n",
       "      <td>Lansing-Westgate (38)</td>\n",
       "      <td>POLYGON ((-79.439984311 43.761557655, -79.4400...</td>\n",
       "    </tr>\n",
       "    <tr>\n",
       "      <th>3</th>\n",
       "      <td>031</td>\n",
       "      <td>Yorkdale-Glen Park (31)</td>\n",
       "      <td>POLYGON ((-79.439687326 43.705609818, -79.4401...</td>\n",
       "    </tr>\n",
       "    <tr>\n",
       "      <th>4</th>\n",
       "      <td>016</td>\n",
       "      <td>Stonegate-Queensway (16)</td>\n",
       "      <td>POLYGON ((-79.49262119700001 43.64743635, -79....</td>\n",
       "    </tr>\n",
       "  </tbody>\n",
       "</table>\n",
       "</div>"
      ],
      "text/plain": [
       "  AREA_S_CD                     AREA_NAME  \\\n",
       "0       097           Yonge-St.Clair (97)   \n",
       "1       027  York University Heights (27)   \n",
       "2       038         Lansing-Westgate (38)   \n",
       "3       031       Yorkdale-Glen Park (31)   \n",
       "4       016      Stonegate-Queensway (16)   \n",
       "\n",
       "                                            geometry  \n",
       "0  POLYGON ((-79.39119482700001 43.681081124, -79...  \n",
       "1  POLYGON ((-79.505287916 43.759873494, -79.5048...  \n",
       "2  POLYGON ((-79.439984311 43.761557655, -79.4400...  \n",
       "3  POLYGON ((-79.439687326 43.705609818, -79.4401...  \n",
       "4  POLYGON ((-79.49262119700001 43.64743635, -79....  "
      ]
     },
     "execution_count": 15,
     "metadata": {},
     "output_type": "execute_result"
    }
   ],
   "source": [
    "df_neighbourhoods.head()\n"
   ]
  },
  {
   "cell_type": "code",
   "execution_count": 16,
   "metadata": {},
   "outputs": [],
   "source": [
    "# conver to list of lat, long coords\n",
    "df_neighbourhoods['geomlist'] = df_neighbourhoods['geometry'].apply(lambda x: list(x.exterior.coords))"
   ]
  },
  {
   "cell_type": "code",
   "execution_count": 17,
   "metadata": {},
   "outputs": [
    {
     "data": {
      "text/html": [
       "<div>\n",
       "<style scoped>\n",
       "    .dataframe tbody tr th:only-of-type {\n",
       "        vertical-align: middle;\n",
       "    }\n",
       "\n",
       "    .dataframe tbody tr th {\n",
       "        vertical-align: top;\n",
       "    }\n",
       "\n",
       "    .dataframe thead th {\n",
       "        text-align: right;\n",
       "    }\n",
       "</style>\n",
       "<table border=\"1\" class=\"dataframe\">\n",
       "  <thead>\n",
       "    <tr style=\"text-align: right;\">\n",
       "      <th></th>\n",
       "      <th>AREA_S_CD</th>\n",
       "      <th>AREA_NAME</th>\n",
       "      <th>geometry</th>\n",
       "      <th>geomlist</th>\n",
       "    </tr>\n",
       "  </thead>\n",
       "  <tbody>\n",
       "    <tr>\n",
       "      <th>0</th>\n",
       "      <td>097</td>\n",
       "      <td>Yonge-St.Clair (97)</td>\n",
       "      <td>POLYGON ((-79.39119482700001 43.681081124, -79...</td>\n",
       "      <td>[(-79.391194827, 43.681081124), (-79.391405432...</td>\n",
       "    </tr>\n",
       "    <tr>\n",
       "      <th>1</th>\n",
       "      <td>027</td>\n",
       "      <td>York University Heights (27)</td>\n",
       "      <td>POLYGON ((-79.505287916 43.759873494, -79.5048...</td>\n",
       "      <td>[(-79.505287916, 43.759873494), (-79.504882558...</td>\n",
       "    </tr>\n",
       "    <tr>\n",
       "      <th>2</th>\n",
       "      <td>038</td>\n",
       "      <td>Lansing-Westgate (38)</td>\n",
       "      <td>POLYGON ((-79.439984311 43.761557655, -79.4400...</td>\n",
       "      <td>[(-79.439984311, 43.761557655), (-79.440036657...</td>\n",
       "    </tr>\n",
       "    <tr>\n",
       "      <th>3</th>\n",
       "      <td>031</td>\n",
       "      <td>Yorkdale-Glen Park (31)</td>\n",
       "      <td>POLYGON ((-79.439687326 43.705609818, -79.4401...</td>\n",
       "      <td>[(-79.439687326, 43.705609818), (-79.440110286...</td>\n",
       "    </tr>\n",
       "    <tr>\n",
       "      <th>4</th>\n",
       "      <td>016</td>\n",
       "      <td>Stonegate-Queensway (16)</td>\n",
       "      <td>POLYGON ((-79.49262119700001 43.64743635, -79....</td>\n",
       "      <td>[(-79.492621197, 43.64743635), (-79.492769811,...</td>\n",
       "    </tr>\n",
       "  </tbody>\n",
       "</table>\n",
       "</div>"
      ],
      "text/plain": [
       "  AREA_S_CD                     AREA_NAME  \\\n",
       "0       097           Yonge-St.Clair (97)   \n",
       "1       027  York University Heights (27)   \n",
       "2       038         Lansing-Westgate (38)   \n",
       "3       031       Yorkdale-Glen Park (31)   \n",
       "4       016      Stonegate-Queensway (16)   \n",
       "\n",
       "                                            geometry  \\\n",
       "0  POLYGON ((-79.39119482700001 43.681081124, -79...   \n",
       "1  POLYGON ((-79.505287916 43.759873494, -79.5048...   \n",
       "2  POLYGON ((-79.439984311 43.761557655, -79.4400...   \n",
       "3  POLYGON ((-79.439687326 43.705609818, -79.4401...   \n",
       "4  POLYGON ((-79.49262119700001 43.64743635, -79....   \n",
       "\n",
       "                                            geomlist  \n",
       "0  [(-79.391194827, 43.681081124), (-79.391405432...  \n",
       "1  [(-79.505287916, 43.759873494), (-79.504882558...  \n",
       "2  [(-79.439984311, 43.761557655), (-79.440036657...  \n",
       "3  [(-79.439687326, 43.705609818), (-79.440110286...  \n",
       "4  [(-79.492621197, 43.64743635), (-79.492769811,...  "
      ]
     },
     "execution_count": 17,
     "metadata": {},
     "output_type": "execute_result"
    }
   ],
   "source": [
    "df_neighbourhoods.head()"
   ]
  },
  {
   "cell_type": "code",
   "execution_count": 26,
   "metadata": {},
   "outputs": [
    {
     "data": {
      "text/plain": [
       "True"
      ]
     },
     "execution_count": 26,
     "metadata": {},
     "output_type": "execute_result"
    }
   ],
   "source": [
    "poly = df_neighbourhoods.loc[0,'geomlist']\n",
    "#point inside area\n",
    "lat=43.685052\n",
    "lng=-79.396575\n",
    "point_inside_polygon(lat, lng, poly)"
   ]
  },
  {
   "cell_type": "code",
   "execution_count": 27,
   "metadata": {},
   "outputs": [
    {
     "data": {
      "text/plain": [
       "False"
      ]
     },
     "execution_count": 27,
     "metadata": {},
     "output_type": "execute_result"
    }
   ],
   "source": [
    "poly = df_neighbourhoods.loc[0,'geomlist']\n",
    "# point outside area\n",
    "lat=43.698740\n",
    "lng=-79.400233\n",
    "point_inside_polygon(lat, lng, poly)"
   ]
  },
  {
   "cell_type": "markdown",
   "metadata": {},
   "source": [
    "* read in the base dataframe with our Points of Interest"
   ]
  },
  {
   "cell_type": "code",
   "execution_count": 9,
   "metadata": {},
   "outputs": [],
   "source": [
    "df_poi = pd.read_csv('../data/building_styles.csv', index_col=False)\n"
   ]
  },
  {
   "cell_type": "code",
   "execution_count": 20,
   "metadata": {},
   "outputs": [],
   "source": [
    "def get_neighbourhood(row):\n",
    "    for ix, area in df_neighbourhoods.iterrows():\n",
    "        is_in_area=False\n",
    "        if row['latitude'] and row['longitude']:\n",
    "            is_in_area = point_inside_polygon(row['latitude'], row['longitude'], area['geomlist'])\n",
    "            if is_in_area:\n",
    "                #found area, exit\n",
    "                return area['AREA_NAME']\n",
    "    return \"\""
   ]
  },
  {
   "cell_type": "code",
   "execution_count": 21,
   "metadata": {},
   "outputs": [
    {
     "data": {
      "text/html": [
       "<div>\n",
       "<style scoped>\n",
       "    .dataframe tbody tr th:only-of-type {\n",
       "        vertical-align: middle;\n",
       "    }\n",
       "\n",
       "    .dataframe tbody tr th {\n",
       "        vertical-align: top;\n",
       "    }\n",
       "\n",
       "    .dataframe thead th {\n",
       "        text-align: right;\n",
       "    }\n",
       "</style>\n",
       "<table border=\"1\" class=\"dataframe\">\n",
       "  <thead>\n",
       "    <tr style=\"text-align: right;\">\n",
       "      <th></th>\n",
       "      <th>poi_id</th>\n",
       "      <th>name</th>\n",
       "      <th>build_year</th>\n",
       "      <th>build_decade</th>\n",
       "      <th>build_year_clean</th>\n",
       "      <th>demolished_year</th>\n",
       "      <th>address</th>\n",
       "      <th>latitude</th>\n",
       "      <th>longitude</th>\n",
       "      <th>external_url</th>\n",
       "      <th>image_url</th>\n",
       "      <th>heritage_status</th>\n",
       "      <th>current_use</th>\n",
       "      <th>poi_type</th>\n",
       "      <th>poi_type_simple</th>\n",
       "      <th>source</th>\n",
       "      <th>details</th>\n",
       "      <th>style</th>\n",
       "    </tr>\n",
       "  </thead>\n",
       "  <tbody>\n",
       "    <tr>\n",
       "      <th>0</th>\n",
       "      <td>1</td>\n",
       "      <td>43 Cross Street</td>\n",
       "      <td>unknown</td>\n",
       "      <td>NaN</td>\n",
       "      <td>NaN</td>\n",
       "      <td>NaN</td>\n",
       "      <td>43 Cross Street Weston York, ON</td>\n",
       "      <td>43.705088</td>\n",
       "      <td>-79.525501</td>\n",
       "      <td>http://www.acotoronto.ca/show_building.php?Bui...</td>\n",
       "      <td>http://www.acotoronto.ca/tobuilt_bk/php/Buildi...</td>\n",
       "      <td>Weston Heritage Conservation District</td>\n",
       "      <td>NaN</td>\n",
       "      <td>Detached house</td>\n",
       "      <td>Building</td>\n",
       "      <td>http://www.acotoronto.ca/</td>\n",
       "      <td>NaN</td>\n",
       "      <td>Arts and Crafts</td>\n",
       "    </tr>\n",
       "    <tr>\n",
       "      <th>1</th>\n",
       "      <td>10</td>\n",
       "      <td>J. H. McKinnon House</td>\n",
       "      <td>1888</td>\n",
       "      <td>1880.0</td>\n",
       "      <td>1888.0</td>\n",
       "      <td>NaN</td>\n",
       "      <td>506 Jarvis Street Church-Wellesley Toronto, ON</td>\n",
       "      <td>43.667350</td>\n",
       "      <td>-79.379120</td>\n",
       "      <td>http://www.acotoronto.ca/show_building.php?Bui...</td>\n",
       "      <td>http://www.acotoronto.ca/tobuilt_bk/php/Buildi...</td>\n",
       "      <td>Heritage property</td>\n",
       "      <td>NaN</td>\n",
       "      <td>Detached house</td>\n",
       "      <td>Building</td>\n",
       "      <td>http://www.acotoronto.ca/</td>\n",
       "      <td>NaN</td>\n",
       "      <td>Queen Anne</td>\n",
       "    </tr>\n",
       "    <tr>\n",
       "      <th>2</th>\n",
       "      <td>16</td>\n",
       "      <td>121 Major Street</td>\n",
       "      <td>1885</td>\n",
       "      <td>1880.0</td>\n",
       "      <td>1885.0</td>\n",
       "      <td>NaN</td>\n",
       "      <td>121 Major Street Harbord Village Toronto, ON</td>\n",
       "      <td>43.660810</td>\n",
       "      <td>-79.403780</td>\n",
       "      <td>http://www.acotoronto.ca/show_building.php?Bui...</td>\n",
       "      <td>http://www.acotoronto.ca/tobuilt_bk/php/Buildi...</td>\n",
       "      <td>NaN</td>\n",
       "      <td>NaN</td>\n",
       "      <td>Rowhouse</td>\n",
       "      <td>Building</td>\n",
       "      <td>http://www.acotoronto.ca/</td>\n",
       "      <td>NaN</td>\n",
       "      <td>Toronto Bay and Gable</td>\n",
       "    </tr>\n",
       "    <tr>\n",
       "      <th>3</th>\n",
       "      <td>45</td>\n",
       "      <td>22 Chestnut Park</td>\n",
       "      <td>1905</td>\n",
       "      <td>1900.0</td>\n",
       "      <td>1905.0</td>\n",
       "      <td>NaN</td>\n",
       "      <td>22 Chestnut Park Rosedale Toronto, ON</td>\n",
       "      <td>43.679380</td>\n",
       "      <td>-79.388100</td>\n",
       "      <td>http://www.acotoronto.ca/show_building.php?Bui...</td>\n",
       "      <td>http://www.acotoronto.ca/tobuilt_bk/php/Buildi...</td>\n",
       "      <td>South Rosedale Heritage Conservation District</td>\n",
       "      <td>NaN</td>\n",
       "      <td>Detached house</td>\n",
       "      <td>Building</td>\n",
       "      <td>http://www.acotoronto.ca/</td>\n",
       "      <td>First Occupant: Falconbridge, John D.\\r\\r\\r\\r\\...</td>\n",
       "      <td>American colonial</td>\n",
       "    </tr>\n",
       "    <tr>\n",
       "      <th>4</th>\n",
       "      <td>60</td>\n",
       "      <td>23-25 Gifford Street</td>\n",
       "      <td>unknown</td>\n",
       "      <td>NaN</td>\n",
       "      <td>NaN</td>\n",
       "      <td>NaN</td>\n",
       "      <td>23-25 Gifford Street Cabbagetown Toronto, ON</td>\n",
       "      <td>43.663470</td>\n",
       "      <td>-79.363190</td>\n",
       "      <td>http://www.acotoronto.ca/show_building.php?Bui...</td>\n",
       "      <td>http://www.acotoronto.ca/tobuilt_bk/php/Buildi...</td>\n",
       "      <td>Cabbagetown South Heritage Conservation District</td>\n",
       "      <td>NaN</td>\n",
       "      <td>Semi-detached house</td>\n",
       "      <td>Building</td>\n",
       "      <td>http://www.acotoronto.ca/</td>\n",
       "      <td>NaN</td>\n",
       "      <td>Arts and Crafts</td>\n",
       "    </tr>\n",
       "  </tbody>\n",
       "</table>\n",
       "</div>"
      ],
      "text/plain": [
       "   poi_id                  name build_year  build_decade  build_year_clean  \\\n",
       "0       1       43 Cross Street    unknown           NaN               NaN   \n",
       "1      10  J. H. McKinnon House       1888        1880.0            1888.0   \n",
       "2      16      121 Major Street       1885        1880.0            1885.0   \n",
       "3      45      22 Chestnut Park       1905        1900.0            1905.0   \n",
       "4      60  23-25 Gifford Street    unknown           NaN               NaN   \n",
       "\n",
       "   demolished_year                                         address   latitude  \\\n",
       "0              NaN                 43 Cross Street Weston York, ON  43.705088   \n",
       "1              NaN  506 Jarvis Street Church-Wellesley Toronto, ON  43.667350   \n",
       "2              NaN    121 Major Street Harbord Village Toronto, ON  43.660810   \n",
       "3              NaN           22 Chestnut Park Rosedale Toronto, ON  43.679380   \n",
       "4              NaN    23-25 Gifford Street Cabbagetown Toronto, ON  43.663470   \n",
       "\n",
       "   longitude                                       external_url  \\\n",
       "0 -79.525501  http://www.acotoronto.ca/show_building.php?Bui...   \n",
       "1 -79.379120  http://www.acotoronto.ca/show_building.php?Bui...   \n",
       "2 -79.403780  http://www.acotoronto.ca/show_building.php?Bui...   \n",
       "3 -79.388100  http://www.acotoronto.ca/show_building.php?Bui...   \n",
       "4 -79.363190  http://www.acotoronto.ca/show_building.php?Bui...   \n",
       "\n",
       "                                           image_url  \\\n",
       "0  http://www.acotoronto.ca/tobuilt_bk/php/Buildi...   \n",
       "1  http://www.acotoronto.ca/tobuilt_bk/php/Buildi...   \n",
       "2  http://www.acotoronto.ca/tobuilt_bk/php/Buildi...   \n",
       "3  http://www.acotoronto.ca/tobuilt_bk/php/Buildi...   \n",
       "4  http://www.acotoronto.ca/tobuilt_bk/php/Buildi...   \n",
       "\n",
       "                                    heritage_status  current_use  \\\n",
       "0             Weston Heritage Conservation District          NaN   \n",
       "1                                 Heritage property          NaN   \n",
       "2                                               NaN          NaN   \n",
       "3     South Rosedale Heritage Conservation District          NaN   \n",
       "4  Cabbagetown South Heritage Conservation District          NaN   \n",
       "\n",
       "              poi_type poi_type_simple                     source  \\\n",
       "0       Detached house        Building  http://www.acotoronto.ca/   \n",
       "1       Detached house        Building  http://www.acotoronto.ca/   \n",
       "2             Rowhouse        Building  http://www.acotoronto.ca/   \n",
       "3       Detached house        Building  http://www.acotoronto.ca/   \n",
       "4  Semi-detached house        Building  http://www.acotoronto.ca/   \n",
       "\n",
       "                                             details                  style  \n",
       "0                                                NaN        Arts and Crafts  \n",
       "1                                                NaN             Queen Anne  \n",
       "2                                                NaN  Toronto Bay and Gable  \n",
       "3  First Occupant: Falconbridge, John D.\\r\\r\\r\\r\\...      American colonial  \n",
       "4                                                NaN        Arts and Crafts  "
      ]
     },
     "execution_count": 21,
     "metadata": {},
     "output_type": "execute_result"
    }
   ],
   "source": [
    "df_poi.head()"
   ]
  },
  {
   "cell_type": "markdown",
   "metadata": {},
   "source": [
    "* get the neighbourhood for each poi"
   ]
  },
  {
   "cell_type": "code",
   "execution_count": 22,
   "metadata": {},
   "outputs": [],
   "source": [
    "df_poi['neighbourhood'] = df_poi.apply(lambda row: get_neighbourhood(row), axis=1)"
   ]
  }
 ],
 "metadata": {
  "kernelspec": {
   "display_name": "Python 3",
   "language": "python",
   "name": "python3"
  },
  "language_info": {
   "codemirror_mode": {
    "name": "ipython",
    "version": 3
   },
   "file_extension": ".py",
   "mimetype": "text/x-python",
   "name": "python",
   "nbconvert_exporter": "python",
   "pygments_lexer": "ipython3",
   "version": "3.6.7"
  }
 },
 "nbformat": 4,
 "nbformat_minor": 2
}
