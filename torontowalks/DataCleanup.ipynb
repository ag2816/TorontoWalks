{
 "cells": [
  {
   "cell_type": "markdown",
   "metadata": {},
   "source": [
    "#Data Cleanup\n",
    "* find missing lats and longs\n",
    "* find duplicates\n",
    "* investigate unexpected lats and longs (some values appear not to be in Toronto)"
   ]
  },
  {
   "cell_type": "code",
   "execution_count": 1,
   "metadata": {},
   "outputs": [],
   "source": [
    "\n",
    "from sqlalchemy.orm import sessionmaker\n",
    "from models import connect_db, PointsOfInterest, ArchitecturalStyles, Architects,POICategories\n",
    "import pandas as pd\n",
    "from geopy.geocoders import Nominatim # convert an address into latitude and longitude values\n",
    "import geopy.distance\n",
    "import geocoder\n",
    "import os\n",
    "from dotenv import load_dotenv, find_dotenv\n",
    "import time\n",
    "DEBUG=0\n"
   ]
  },
  {
   "cell_type": "code",
   "execution_count": 2,
   "metadata": {},
   "outputs": [],
   "source": [
    "import logging\n",
    "for handler in logging.root.handlers[:]:\n",
    "    logging.root.removeHandler(handler)\n",
    "logging.basicConfig(filename='../logs/datacleanup.log',level=logging.DEBUG)\n"
   ]
  },
  {
   "cell_type": "code",
   "execution_count": 3,
   "metadata": {},
   "outputs": [],
   "source": [
    "def get_key(env='BING'):\n",
    "    load_dotenv(find_dotenv())\n",
    "    DEBUG = os.getenv(\"DEBUG\")\n",
    "    # load environment variables\n",
    "    if env=='BING':\n",
    "        KEY = os.getenv(\"BING_KEY\")\n",
    "    else:\n",
    "        KEY = os.getenv(\"GOOGLE_KEY\")\n",
    "    #DEBUG = os.getenv(\"DEBUG\")\n",
    "    return KEY"
   ]
  },
  {
   "cell_type": "code",
   "execution_count": 20,
   "metadata": {},
   "outputs": [],
   "source": [
    "def get_lats_longs(address):\n",
    "    '''This function uses GeoCoder to retrieve the latitude and longitude for neighbourhoods.\n",
    "    address to look up\n",
    "    returns lat and long\n",
    "    '''\n",
    "    KEY = get_key(\"GOOGLE_KEY\")\n",
    "    # # get geocode for postal codes\n",
    "    # initialize your variable to None\n",
    "    lat_lng_coords = None\n",
    "    lat=None\n",
    "    long=None\n",
    "    max_loops = 10\n",
    "    curr_loop =0\n",
    "    # loop until you get the coordinates (sometime dont' get a response)\n",
    "    lat_lng_coords = None\n",
    "    while(lat_lng_coords is None and curr_loop < max_loops):\n",
    "      # g = geocoder.bing('{}'.format(address),key=KEY)\n",
    "        g = geocoder.google('{}'.format(address), key=KEY)\n",
    "       # g= geocoder.google('{}'.format(address))\n",
    "        if DEBUG > 0:\n",
    "            print (g)\n",
    "        lat_lng_coords = g.latlng\n",
    "        if DEBUG > 0:\n",
    "            print(lat_lng_coords)\n",
    "        if lat_lng_coords == None:\n",
    "            time.sleep(1)\n",
    "        curr_loop += 1\n",
    "    if lat_lng_coords is not None:\n",
    "        lat=lat_lng_coords[0]\n",
    "        long=lat_lng_coords[1]\n",
    "\n",
    "    return lat,long"
   ]
  },
  {
   "cell_type": "code",
   "execution_count": 5,
   "metadata": {},
   "outputs": [],
   "source": [
    "def cleanup_address(row):\n",
    "   \n",
    "    lat=None\n",
    "    long=None\n",
    "    row.print_me()\n",
    "    if a.address[0] == '0': \n",
    "        # look for \"0 <street\" format -- usually first digit\n",
    "        print (\"street address is zeroed\")\n",
    "        new_search = row.name + \" \" +  a.address[1:]  + \", Toronto ON\"\n",
    "        print(f'try searching on: {new_search}')\n",
    "        lat, long=get_lats_longs(new_search)\n",
    "    elif \"Toronto\" not in a.address:\n",
    "         # check if missing Toronto and try adding it\n",
    "        print('address is missing toronto')\n",
    "        row.address = row.address +  \", Toronto ON\"\n",
    "        lat, long=get_lats_longs(row.address)\n",
    "    print(f'new lat {lat} and long{long}')\n",
    "\n",
    "    return lat, long"
   ]
  },
  {
   "cell_type": "code",
   "execution_count": 6,
   "metadata": {},
   "outputs": [],
   "source": [
    "def update_missing_coords():\n",
    "    '''\n",
    "    Find all rows in PointsofINterest table that are missing lat and long\n",
    "    Lookup address using Geocoder and update database row\n",
    "    '''\n",
    "    null_lats = session.query(PointsOfInterest).filter(PointsOfInterest.latitude == None)\n",
    "#     row = session.query(PointsOfInterest).filter(PointsOfInterest.latitude == None).first()\n",
    "#     lat, long= get_lats_longs(row.address)\n",
    "#     props = {'latitude':lat, 'longitude':long}\n",
    "\n",
    "#     for key, value in props.items():\n",
    "#         setattr(row, key, value)\n",
    "\n",
    "    for row in null_lats:\n",
    "        #null_lat = session.query(PointsOfInterest).get(1)\n",
    "        lat, long= get_lats_longs(row.address)\n",
    "        props = {'latitude':lat, 'longitude':long}\n",
    "\n",
    "        for key, value in props.items():\n",
    "            setattr(row, key, value)\n",
    "\n",
    "    # save up our commits\n",
    "    session.commit()\n",
    "    session.flush()\n",
    "    return True\n"
   ]
  },
  {
   "cell_type": "code",
   "execution_count": 7,
   "metadata": {},
   "outputs": [],
   "source": [
    "def check_missing_coords():\n",
    "    num_missing_coords = session.query(PointsOfInterest).filter(PointsOfInterest.latitude == None).count()\n",
    "    print(f\"There are {num_missing_coords} records missing lat/long coordindates.\")\n",
    "    if num_missing_coords> 0:\n",
    "        update_missing_coords()"
   ]
  },
  {
   "cell_type": "markdown",
   "metadata": {},
   "source": [
    "# Clean up duplicate rows"
   ]
  },
  {
   "cell_type": "code",
   "execution_count": null,
   "metadata": {},
   "outputs": [],
   "source": [
    "def delete_poi_by_id(id):\n",
    "    poi = session.query(PointsOfInterest).filter(PointsOfInterest.poi_id==id).first()\n",
    "    print(f\"deleting {poi.name}\")\n",
    "    session.delete(poi)\n",
    "    session.commit()\n",
    "    return True"
   ]
  },
  {
   "cell_type": "code",
   "execution_count": 14,
   "metadata": {},
   "outputs": [],
   "source": [
    "def find_and_delete_dups(df):\n",
    "    df.sort_values('name', inplace=True)\n",
    "    prev_name=''\n",
    "    prev_addr = ''\n",
    "    prev_src =  ''\n",
    "    prv_exturl=''\n",
    "    for ix, row in df.iterrows():\n",
    "        if prev_name == row['name'] and prev_addr == row['address'] and  prev_src==row['source'] and prv_exturl==row['external_url']:\n",
    "            print(f\"duplicate {prev_name} at {prev_addr} from {prev_src} and {prv_exturl}\")\n",
    "            delete_poi_by_id(row['poi_id'])\n",
    "            #print(row)\n",
    "        prev_name = row['name']\n",
    "        prev_addr = row['address']\n",
    "        prev_src = row['source']\n",
    "        prv_exturl=row['external_url']"
   ]
  },
  {
   "cell_type": "markdown",
   "metadata": {},
   "source": [
    "# Try to find points outside Toronto"
   ]
  },
  {
   "cell_type": "code",
   "execution_count": 35,
   "metadata": {},
   "outputs": [],
   "source": [
    "def do_address_fix(address):\n",
    "    if 'ON' not in address:\n",
    "        address = f\"{address}, ON\"\n",
    "    return address"
   ]
  },
  {
   "cell_type": "code",
   "execution_count": 36,
   "metadata": {},
   "outputs": [],
   "source": [
    "def update_coords(id, fix_address=False):\n",
    "    poi_to_update = session.query(PointsOfInterest).filter(PointsOfInterest.poi_id == id).first()\n",
    "    print(f\"Checking coordinates for{poi_to_update.name}. Current coordinates for {poi_to_update.address} are {poi_to_update.latitude}, {poi_to_update.longitude}\")\n",
    "    logging.debug(f\"Checking coordinates for {id} {poi_to_update.name}. Current coordinates for {poi_to_update.address} are {poi_to_update.latitude}, {poi_to_update.longitude}\")\n",
    "    \n",
    "    if fix_address:\n",
    "        poi_to_update.address=do_address_fix(poi_to_update.address)\n",
    "        print(f'new address{poi_to_update.address}')\n",
    "    \n",
    "    lat, long = get_lats_longs(poi_to_update.address)\n",
    "    logging.debug(f\"Updating to {lat},{long}\")\n",
    "    \n",
    "    poi_to_update.latitude = lat\n",
    "    poi_to_update.longitude =long\n",
    "\n",
    "    session.commit()\n",
    "    session.flush()\n",
    "\n",
    "    print(lat, long)"
   ]
  },
  {
   "cell_type": "code",
   "execution_count": 37,
   "metadata": {},
   "outputs": [],
   "source": [
    "def find_dist(df, lat, long):\n",
    "    avail_points = []\n",
    "    \n",
    "    for ix, row in df.iterrows():\n",
    "        curr_pt = geopy.distance.geodesic((row['latitude'], row['longitude']), (lat, long)).km\n",
    "        #print(curr_pt)\n",
    "        \n",
    "        avail_points.append(curr_pt)\n",
    "    df['dist_start'] = avail_points\n",
    "    return df"
   ]
  },
  {
   "cell_type": "code",
   "execution_count": 38,
   "metadata": {},
   "outputs": [],
   "source": [
    "def find_points_outside_TO(df, fix_address=False, dist=50, starting_lat=43.656287,starting_long= -79.380898):\n",
    "    ''' Find points more than 50KM from downtown Toronto (Yonge Dundas Square is default) and try to update'''\n",
    "    df=find_dist(df, starting_lat, starting_long)\n",
    "    for ix, row in df[df['dist_start']>dist].iterrows():\n",
    "        print(f\"{row['poi_id'], row['name']} is outside of Toronto\")\n",
    "        update_coords(row['poi_id'], fix_address)"
   ]
  },
  {
   "cell_type": "code",
   "execution_count": null,
   "metadata": {},
   "outputs": [],
   "source": []
  },
  {
   "cell_type": "code",
   "execution_count": null,
   "metadata": {},
   "outputs": [],
   "source": []
  },
  {
   "cell_type": "code",
   "execution_count": 40,
   "metadata": {},
   "outputs": [
    {
     "name": "stdout",
     "output_type": "stream",
     "text": [
      "(8, '43 Cross Street') is outside of Toronto\n",
      "Checking coordinates for43 Cross Street. Current coordinates for 43 Cross Street Weston York are 39.9625984, -76.727745\n",
      "39.9625984 -76.727745\n",
      "(61, '6 Fern Avenue') is outside of Toronto\n",
      "Checking coordinates for6 Fern Avenue. Current coordinates for 6 Fern Avenue Weston York are 43.2994285, -74.2179326\n",
      "43.2994285 -74.21793260000001\n",
      "(3245, 'William Muir House (Howard Street)') is outside of Toronto\n",
      "Checking coordinates forWilliam Muir House (Howard Street). Current coordinates for 8 Howard Street St. Jamestown East York are 42.0838943, -79.2340753\n",
      "42.0838943 -79.23407530000001\n",
      "(8, '43 Cross Street') is outside of Toronto\n",
      "Checking coordinates for43 Cross Street. Current coordinates for 43 Cross Street Weston York are 39.9625984, -76.727745\n",
      "new address43 Cross Street Weston York, ON\n",
      "43.7050882 -79.5255011\n",
      "(61, '6 Fern Avenue') is outside of Toronto\n",
      "Checking coordinates for6 Fern Avenue. Current coordinates for 6 Fern Avenue Weston York are 43.2994285, -74.2179326\n",
      "new address6 Fern Avenue Weston York, ON\n",
      "43.702957 -79.5232515\n",
      "(3245, 'William Muir House (Howard Street)') is outside of Toronto\n",
      "Checking coordinates forWilliam Muir House (Howard Street). Current coordinates for 8 Howard Street St. Jamestown East York are 42.0838943, -79.2340753\n",
      "new address8 Howard Street St. Jamestown East York, ON\n",
      "43.6712959 -79.37529529999999\n"
     ]
    }
   ],
   "source": [
    "db=connect_db() #establish connection / creates database on first run\n",
    "Session = sessionmaker(bind=db)\n",
    "session = Session()\n",
    "\n",
    "#check_missing_coords()\n",
    "\n",
    "# remove duplicate rows\n",
    "# df = pd.read_sql(session.query(PointsOfInterest).statement, session.bind)\n",
    "# df.sort_values('name', inplace=True)\n",
    "# find_and_delete_dups(df)\n",
    "\n",
    "# get fresh df from database with removed deletes\n",
    "df = pd.read_sql(session.query(PointsOfInterest).statement, session.bind)\n",
    "df.sort_values('poi_id', inplace=True)\n",
    "find_points_outside_TO(df)\n",
    "\n",
    "# try again in case still have bad addresses -- but this time try to fix them\n",
    "df = pd.read_sql(session.query(PointsOfInterest).statement, session.bind)\n",
    "df.sort_values('poi_id', inplace=True)\n",
    "find_points_outside_TO(df,fix_address=True)"
   ]
  },
  {
   "cell_type": "code",
   "execution_count": null,
   "metadata": {},
   "outputs": [],
   "source": []
  }
 ],
 "metadata": {
  "kernelspec": {
   "display_name": "Python 3",
   "language": "python",
   "name": "python3"
  },
  "language_info": {
   "codemirror_mode": {
    "name": "ipython",
    "version": 3
   },
   "file_extension": ".py",
   "mimetype": "text/x-python",
   "name": "python",
   "nbconvert_exporter": "python",
   "pygments_lexer": "ipython3",
   "version": "3.7.0"
  }
 },
 "nbformat": 4,
 "nbformat_minor": 2
}
