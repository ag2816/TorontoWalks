{
 "cells": [
  {
   "cell_type": "code",
   "execution_count": 1,
   "metadata": {},
   "outputs": [],
   "source": [
    "\n",
    "from sqlalchemy.orm import sessionmaker\n",
    "from models import connect_db, PointsOfInterest, ArchitecturalStyles, Architects,POICategories\n",
    "import pandas as pd\n",
    "from geopy.geocoders import Nominatim # convert an address into latitude and longitude values\n",
    "import geocoder\n",
    "import os\n",
    "from dotenv import load_dotenv, find_dotenv\n",
    "import time\n",
    "DEBUG=0"
   ]
  },
  {
   "cell_type": "code",
   "execution_count": 2,
   "metadata": {},
   "outputs": [],
   "source": [
    "def get_bing_key():\n",
    "    load_dotenv(find_dotenv())\n",
    "    # load environment variables\n",
    "    BING_KEY = os.getenv(\"BING_KEY\")\n",
    "    DEBUG = os.getenv(\"DEBUG\")\n",
    "    return BING_KEY"
   ]
  },
  {
   "cell_type": "code",
   "execution_count": 3,
   "metadata": {},
   "outputs": [],
   "source": [
    "def get_lats_longs(address):\n",
    "    '''This function uses GeoCoder to retrieve the latitude and longitude for neighbourhoods.\n",
    "    address to look up\n",
    "    returns lat and long\n",
    "    '''\n",
    "    BING_KEY = get_bing_key()\n",
    "    # # get geocode for postal codes\n",
    "    # initialize your variable to None\n",
    "    lat_lng_coords = None\n",
    "    lat=None\n",
    "    long=None\n",
    "    max_loops = 10\n",
    "    curr_loop =0\n",
    "    # loop until you get the coordinates (sometime dont' get a response)\n",
    "    lat_lng_coords = None\n",
    "    while(lat_lng_coords is None and curr_loop < max_loops):\n",
    "        g = geocoder.bing('{}'.format(address),key=BING_KEY)\n",
    "        if DEBUG > 0:\n",
    "            print (g)\n",
    "        lat_lng_coords = g.latlng\n",
    "        if DEBUG > 0:\n",
    "            print(lat_lng_coords)\n",
    "        if lat_lng_coords == None:\n",
    "            time.sleep(1)\n",
    "        curr_loop += 1\n",
    "\n",
    "    lat=lat_lng_coords[0]\n",
    "    long=lat_lng_coords[1]\n",
    "\n",
    "    return lat,long"
   ]
  },
  {
   "cell_type": "code",
   "execution_count": 8,
   "metadata": {},
   "outputs": [],
   "source": [
    "def update_missing_coords():\n",
    "    '''\n",
    "    Find all rows in PointsofINterest table that are missing lat and long\n",
    "    Lookup address using Geocoder and update database row\n",
    "    '''\n",
    "    null_lats = session.query(PointsOfInterest).filter(PointsOfInterest.latitude == None)\n",
    "    for row in null_lats:\n",
    "        #null_lat = session.query(PointsOfInterest).get(1)\n",
    "        lat, long= get_lats_longs(row.address)\n",
    "        props = {'latitude':lat, 'longitude':long}\n",
    "\n",
    "        for key, value in props.items():\n",
    "            setattr(row, key, value)\n",
    "\n",
    "    # save up our commits\n",
    "    session.commit()\n",
    "    session.flush()\n",
    "    return True\n"
   ]
  },
  {
   "cell_type": "code",
   "execution_count": 9,
   "metadata": {},
   "outputs": [
    {
     "name": "stderr",
     "output_type": "stream",
     "text": [
      "Status code Unknown from http://dev.virtualearth.net/REST/v1/Locations: ERROR - HTTPConnectionPool(host='dev.virtualearth.net', port=80): Max retries exceeded with url: /REST/v1/Locations?q=22-24+Tiverton+Avenue+Riverdale+Toronto&o=json&inclnb=1&key=AjSRA1cu_X4uwtkQI4EfWAckPz7ipmlB-HHNzf5Zx0ZW8FiLwMwo8BZXYOpkbQrU&maxResults=1 (Caused by ConnectTimeoutError(<urllib3.connection.HTTPConnection object at 0x000002275F0FAE10>, 'Connection to dev.virtualearth.net timed out. (connect timeout=5.0)'))\n"
     ]
    },
    {
     "data": {
      "text/plain": [
       "True"
      ]
     },
     "execution_count": 9,
     "metadata": {},
     "output_type": "execute_result"
    }
   ],
   "source": [
    "db=connect_db() #establish connection / creates database on first run\n",
    "Session = sessionmaker(bind=db)\n",
    "session = Session()\n",
    "update_missing_coords()"
   ]
  },
  {
   "cell_type": "code",
   "execution_count": 11,
   "metadata": {},
   "outputs": [
    {
     "data": {
      "text/plain": [
       "43.64548"
      ]
     },
     "execution_count": 11,
     "metadata": {},
     "output_type": "execute_result"
    }
   ],
   "source": [
    "session.query(PointsOfInterest).get(3500).latitude #43.66449"
   ]
  },
  {
   "cell_type": "code",
   "execution_count": 13,
   "metadata": {},
   "outputs": [
    {
     "data": {
      "text/plain": [
       "0"
      ]
     },
     "execution_count": 13,
     "metadata": {},
     "output_type": "execute_result"
    }
   ],
   "source": [
    "session.commit()\n",
    "session.flush()\n",
    "session.query(PointsOfInterest).filter(PointsOfInterest.latitude == None).count()"
   ]
  }
 ],
 "metadata": {
  "kernelspec": {
   "display_name": "Python 3",
   "language": "python",
   "name": "python3"
  },
  "language_info": {
   "codemirror_mode": {
    "name": "ipython",
    "version": 3
   },
   "file_extension": ".py",
   "mimetype": "text/x-python",
   "name": "python",
   "nbconvert_exporter": "python",
   "pygments_lexer": "ipython3",
   "version": "3.7.0"
  }
 },
 "nbformat": 4,
 "nbformat_minor": 2
}
