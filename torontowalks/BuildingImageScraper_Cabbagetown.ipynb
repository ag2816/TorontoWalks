{
 "cells": [
  {
   "cell_type": "markdown",
   "metadata": {},
   "source": [
    "# Web Scrape labelled images of building styles"
   ]
  },
  {
   "cell_type": "markdown",
   "metadata": {},
   "source": [
    "# Toronto Plaques\n",
    "* http://torontoplaques.com/Menu_Subjects.html"
   ]
  },
  {
   "cell_type": "code",
   "execution_count": 1,
   "metadata": {},
   "outputs": [],
   "source": [
    "# Import libaries\n",
    "import requests\n",
    "from bs4 import BeautifulSoup\n",
    "import pandas as pd\n",
    "import numpy as np\n",
    "import string\n",
    "import re\n",
    "import urllib\n",
    "import os\n",
    "import time\n",
    "from datetime import datetime\n",
    "import string"
   ]
  },
  {
   "cell_type": "code",
   "execution_count": 2,
   "metadata": {},
   "outputs": [],
   "source": [
    "from sqlalchemy import create_engine, Column, Integer, String, Sequence, Float\n",
    "from sqlalchemy.ext.declarative import declarative_base\n",
    "from sqlalchemy.orm import sessionmaker\n",
    "from models import connect_db, PointsOfInterest, ArchitecturalStyles, Architects,POICategories"
   ]
  },
  {
   "cell_type": "markdown",
   "metadata": {},
   "source": [
    "### Set up base variables"
   ]
  },
  {
   "cell_type": "code",
   "execution_count": 3,
   "metadata": {},
   "outputs": [],
   "source": [
    "rerun_webscrape=False # rerun all  webscraping\n",
    "populate_db = False # repopulate database\n",
    "\n",
    "# search by Builidng Type\n",
    "main_page = 'http://www.cabbagetownpeople.ca/biographies/plaquees/'\n",
    "#style_url=\"http://www.acotoronto.ca/search_buildingsDB_d2.php\"\n",
    "#site_root = \"http://torontoplaques.com\"\n",
    "debug=False\n",
    "plaques_list = []\n",
    "\n",
    "df_to_db_map={\n",
    "    'Name':'name',\n",
    "    'Street' :'address' ,\n",
    "    'URL':'external_url',\n",
    "    'Notes': 'details',\n",
    "}"
   ]
  },
  {
   "cell_type": "code",
   "execution_count": 2,
   "metadata": {},
   "outputs": [],
   "source": [
    "def load_page(url):\n",
    "    response = requests.get(url)\n",
    "    if response.status_code == 200:\n",
    "        return response.text\n",
    "    else:\n",
    "        print(f\"Error connecting: status code {response.status_code}\")"
   ]
  },
  {
   "cell_type": "code",
   "execution_count": 6,
   "metadata": {},
   "outputs": [],
   "source": [
    "def load_person_page(person_url):\n",
    "    #location_text= \"\"\n",
    "    plaque_text = \"\"\n",
    "    plaque_dict = {\n",
    "        'Name':None,\n",
    "        'URL': person_url,\n",
    "        'Notes':None,\n",
    "        'Street': None,\n",
    "        'Description': None\n",
    "    }\n",
    "\n",
    "   # person_url =\"http://www.cabbagetownpeople.ca/person/walter-seymour-allward/\"\n",
    "    html = load_page(person_url)\n",
    "    soup = BeautifulSoup(html)\n",
    "    start=soup.find('div', {'class':'entry-content'})\n",
    "    for tag in start.recursiveChildGenerator():\n",
    "        if 'Plaque located at' in tag:\n",
    "            plaque_dict['Street'] = tag.replace('Plaque located at: ','')\n",
    "        elif tag.name=='h3':\n",
    "            plaque_dict['Name'] = tag.text.strip()\n",
    "        elif tag.name=='h4':\n",
    "            plaque_dict['Description'] = tag.text.strip()\n",
    "        elif tag.name=='p':\n",
    "            plaque_text+= tag.text.strip()\n",
    "\n",
    "    plaque_dict['Notes'] = plaque_text\n",
    "\n",
    "    return plaque_dict\n"
   ]
  },
  {
   "cell_type": "code",
   "execution_count": 8,
   "metadata": {},
   "outputs": [
    {
     "name": "stdout",
     "output_type": "stream",
     "text": [
      "None\n",
      "http://www.cabbagetownpeople.ca/person/test-person-1/\n",
      "None\n",
      "http://www.cabbagetownpeople.ca/person/walter-seymour-allward/\n",
      "http://www.cabbagetownpeople.ca/person/betty-oliphant/\n",
      "http://www.cabbagetownpeople.ca/person/allen-yen/\n",
      "http://www.cabbagetownpeople.ca/person/mary-oriordan/\n",
      "http://www.cabbagetownpeople.ca/person/roger-abbott/\n",
      "None\n",
      "http://www.cabbagetownpeople.ca/person/gordon-sinclair/\n",
      "http://www.cabbagetownpeople.ca/person/patricia-watson/\n",
      "http://www.cabbagetownpeople.ca/person/allan-king/\n",
      "http://www.cabbagetownpeople.ca/person/lieutenant-francis-gwillim-simcoe/\n",
      "http://www.cabbagetownpeople.ca/person/charles-sauriol/\n",
      "http://www.cabbagetownpeople.ca/person/oronhyatekha-m-d/\n",
      "http://www.cabbagetownpeople.ca/person/rowena-hume/\n",
      "http://www.cabbagetownpeople.ca/person/sarah-anne-curzon/\n",
      "http://www.cabbagetownpeople.ca/person/benjamin-brick/\n",
      "http://www.cabbagetownpeople.ca/person/cabbagetowns-first-people/\n",
      "None\n",
      "http://www.cabbagetownpeople.ca/person/lister-sinclair/\n",
      "None\n",
      "http://www.cabbagetownpeople.ca/person/albert-frenchy-belanger/\n",
      "None\n",
      "http://www.cabbagetownpeople.ca/person/arthur-goss/\n",
      "http://www.cabbagetownpeople.ca/person/fredelle-bruser-maynard/\n",
      "http://www.cabbagetownpeople.ca/person/toller-cranston/\n",
      "None\n",
      "http://www.cabbagetownpeople.ca/person/frederick-hagan/\n",
      "http://www.cabbagetownpeople.ca/person/hugh-garner/\n",
      "http://www.cabbagetownpeople.ca/person/luigi-von-kunits/\n",
      "None\n",
      "http://www.cabbagetownpeople.ca/person/ben-wicks/\n",
      "None\n",
      "http://www.cabbagetownpeople.ca/person/flos-jewell-williams/\n",
      "http://www.cabbagetownpeople.ca/person/samuel-rose/\n",
      "None\n",
      "http://www.cabbagetownpeople.ca/person/al-purdy/\n",
      "http://www.cabbagetownpeople.ca/person/arthur-schawlow/\n",
      "http://www.cabbagetownpeople.ca/person/jack-nichols/\n",
      "http://www.cabbagetownpeople.ca/person/josef-skvorecky/\n",
      "None\n",
      "http://www.cabbagetownpeople.ca/person/eden-smith/\n",
      "None\n",
      "http://www.cabbagetownpeople.ca/person/the-adaskin-family/\n",
      "None\n",
      "http://www.cabbagetownpeople.ca/person/larry-gains/\n",
      "http://www.cabbagetownpeople.ca/person/morley-callaghan/\n",
      "http://www.cabbagetownpeople.ca/person/ainsworth-dyer/\n",
      "None\n",
      "http://www.cabbagetownpeople.ca/person/james-grand/\n",
      "http://www.cabbagetownpeople.ca/person/charles-b-mackay/\n",
      "http://www.cabbagetownpeople.ca/person/edward-mulberry-hodder/\n",
      "None\n",
      "http://www.cabbagetownpeople.ca/person/darrell-kent/\n",
      "http://www.cabbagetownpeople.ca/person/fraser-mustard/\n",
      "http://www.cabbagetownpeople.ca/person/bill-stapleton/\n",
      "None\n",
      "http://www.cabbagetownpeople.ca/person/charles-william-jefferys/\n",
      "http://www.cabbagetownpeople.ca/person/tony-brady/\n",
      "http://www.cabbagetownpeople.ca/person/richard-bradshaw/\n",
      "http://www.cabbagetownpeople.ca/person/walter-huston/\n",
      "None\n",
      "http://www.cabbagetownpeople.ca/person/samuel-j-boddy/\n",
      "http://www.cabbagetownpeople.ca/person/doug-henning/\n",
      "http://www.cabbagetownpeople.ca/person/ernest-macmillan/\n",
      "http://www.cabbagetownpeople.ca/person/daniel-lamb/\n",
      "http://www.cabbagetownpeople.ca/person/early-settlers/\n"
     ]
    }
   ],
   "source": [
    "def run_webscrape():\n",
    "    html = load_page(main_page)\n",
    "    soup = BeautifulSoup(html)\n",
    "    subjects = soup.find('ul', {'id':'posts'}).findChildren('a')\n",
    "    for subject in subjects:\n",
    "        asubj = subject.text.strip()\n",
    "        subject_url = subject.get_attribute_list('href')[0]\n",
    "        print(subject_url)\n",
    "        if subject_url != None:\n",
    "            per_dict =load_person_page(subject_url)\n",
    "            plaques_list.append(per_dict)\n",
    "        time.sleep(5)\n",
    "#     plq_df = pd.DataFrame(plaques_list)\n",
    "#     plq_df.to_csv('../data/cabbagetown_plaques_' + str(round(time.time(),0)) + '.csv')\n"
   ]
  },
  {
   "cell_type": "code",
   "execution_count": 15,
   "metadata": {},
   "outputs": [
    {
     "data": {
      "text/html": [
       "<div>\n",
       "<style scoped>\n",
       "    .dataframe tbody tr th:only-of-type {\n",
       "        vertical-align: middle;\n",
       "    }\n",
       "\n",
       "    .dataframe tbody tr th {\n",
       "        vertical-align: top;\n",
       "    }\n",
       "\n",
       "    .dataframe thead th {\n",
       "        text-align: right;\n",
       "    }\n",
       "</style>\n",
       "<table border=\"1\" class=\"dataframe\">\n",
       "  <thead>\n",
       "    <tr style=\"text-align: right;\">\n",
       "      <th></th>\n",
       "      <th>Description</th>\n",
       "      <th>Name</th>\n",
       "      <th>Notes</th>\n",
       "      <th>Street</th>\n",
       "      <th>URL</th>\n",
       "    </tr>\n",
       "  </thead>\n",
       "  <tbody>\n",
       "    <tr>\n",
       "      <th>0</th>\n",
       "      <td>Writer, Self-trained Biologist, Scientific Ill...</td>\n",
       "      <td>Ernest Thompson Seton  1860 - 1946</td>\n",
       "      <td>Writer, Self-trained Biologist, Scientific Ill...</td>\n",
       "      <td>6 Aberdeen Avenue, Toronto, ON, Canada</td>\n",
       "      <td>http://www.cabbagetownpeople.ca/person/test-pe...</td>\n",
       "    </tr>\n",
       "    <tr>\n",
       "      <th>1</th>\n",
       "      <td>Renowned Canadian Sculptor</td>\n",
       "      <td>Walter Seymour Allward, R.C.A.  1876 - 1955</td>\n",
       "      <td>Renowned Canadian Sculptor.  Walter Seymour Al...</td>\n",
       "      <td>43 Amelia Street, Toronto, ON, Canada</td>\n",
       "      <td>http://www.cabbagetownpeople.ca/person/walter-...</td>\n",
       "    </tr>\n",
       "    <tr>\n",
       "      <th>2</th>\n",
       "      <td>World-Renowned Innovator of Ballet Education</td>\n",
       "      <td>Betty Oliphant  1918 - 2004</td>\n",
       "      <td>World-Renowned Innovator of Ballet Education. ...</td>\n",
       "      <td>137 Amelia Street, Toronto, ON, Canada</td>\n",
       "      <td>http://www.cabbagetownpeople.ca/person/betty-o...</td>\n",
       "    </tr>\n",
       "    <tr>\n",
       "      <th>3</th>\n",
       "      <td>A Leading Figure in Canadian Radio Astronomy</td>\n",
       "      <td>Allen Yen, PhD  1925 - 1993</td>\n",
       "      <td>A Leading Figure in Canadian Radio Astronomy. ...</td>\n",
       "      <td>139 Amelia Street, Toronto, ON, Canada</td>\n",
       "      <td>http://www.cabbagetownpeople.ca/person/allen-yen/</td>\n",
       "    </tr>\n",
       "    <tr>\n",
       "      <th>4</th>\n",
       "      <td>Pioneering Veterinarian</td>\n",
       "      <td>Dr. Mary O'Riordan, D.V.M.  1925 - 1993</td>\n",
       "      <td>Pioneering Veterinarian.  Born in Ennis, Count...</td>\n",
       "      <td>160 Amelia Street, Toronto, ON, Canada</td>\n",
       "      <td>http://www.cabbagetownpeople.ca/person/mary-or...</td>\n",
       "    </tr>\n",
       "  </tbody>\n",
       "</table>\n",
       "</div>"
      ],
      "text/plain": [
       "                                         Description  \\\n",
       "0  Writer, Self-trained Biologist, Scientific Ill...   \n",
       "1                         Renowned Canadian Sculptor   \n",
       "2       World-Renowned Innovator of Ballet Education   \n",
       "3       A Leading Figure in Canadian Radio Astronomy   \n",
       "4                            Pioneering Veterinarian   \n",
       "\n",
       "                                          Name  \\\n",
       "0           Ernest Thompson Seton  1860 - 1946   \n",
       "1  Walter Seymour Allward, R.C.A.  1876 - 1955   \n",
       "2                  Betty Oliphant  1918 - 2004   \n",
       "3                  Allen Yen, PhD  1925 - 1993   \n",
       "4      Dr. Mary O'Riordan, D.V.M.  1925 - 1993   \n",
       "\n",
       "                                               Notes  \\\n",
       "0  Writer, Self-trained Biologist, Scientific Ill...   \n",
       "1  Renowned Canadian Sculptor.  Walter Seymour Al...   \n",
       "2  World-Renowned Innovator of Ballet Education. ...   \n",
       "3  A Leading Figure in Canadian Radio Astronomy. ...   \n",
       "4  Pioneering Veterinarian.  Born in Ennis, Count...   \n",
       "\n",
       "                                   Street  \\\n",
       "0  6 Aberdeen Avenue, Toronto, ON, Canada   \n",
       "1   43 Amelia Street, Toronto, ON, Canada   \n",
       "2  137 Amelia Street, Toronto, ON, Canada   \n",
       "3  139 Amelia Street, Toronto, ON, Canada   \n",
       "4  160 Amelia Street, Toronto, ON, Canada   \n",
       "\n",
       "                                                 URL  \n",
       "0  http://www.cabbagetownpeople.ca/person/test-pe...  \n",
       "1  http://www.cabbagetownpeople.ca/person/walter-...  \n",
       "2  http://www.cabbagetownpeople.ca/person/betty-o...  \n",
       "3  http://www.cabbagetownpeople.ca/person/allen-yen/  \n",
       "4  http://www.cabbagetownpeople.ca/person/mary-or...  "
      ]
     },
     "execution_count": 15,
     "metadata": {},
     "output_type": "execute_result"
    }
   ],
   "source": [
    "if rerun_webscrape:\n",
    "    run_webscrape()\n",
    "    bld_df = pd.DataFrame(plaques_list)\n",
    "    bld_df.to_csv('../data/cabbagetown_plaques_'+ str(round(time.time(),0)) + '.csv')\n",
    "else:\n",
    "    bld_df=pd.read_csv('../data/cabbagetown_plaques_1543031716.0.csv',index_col=0)\n",
    "    # merge description and notes\n",
    "    bld_df['Notes'] = bld_df['Description'] + \".  \" + bld_df['Notes']\n",
    "bld_df.head()    "
   ]
  },
  {
   "cell_type": "code",
   "execution_count": 25,
   "metadata": {},
   "outputs": [],
   "source": [
    "def save_to_database_ORM(session, df):\n",
    "    '''\n",
    "    Saves scraped data to database using SqlAlchemy ORM\n",
    "    Updates three tables: points_of_interest, archtectural_styles, architects\n",
    "    The relationship between these tables is defined in models.py, so it automatically populates the poi_id column\n",
    "    in the child tables with the poi_id of the main entry \n",
    "    '''\n",
    "    \n",
    "    for index, row in df.iterrows():\n",
    "        \n",
    "        poi_dict ={df_to_db_map[k]:v for k, v in row.items() if k in df_to_db_map.keys() and not pd.isnull(v)}\n",
    "        poi_dict['poi_type']=\"Plaque\"\n",
    "        # hardcode type to statue \n",
    "\n",
    "        poi = PointsOfInterest(**poi_dict )\n",
    "\n",
    "        session.add(poi)\n",
    "        session.commit()"
   ]
  },
  {
   "cell_type": "code",
   "execution_count": 26,
   "metadata": {},
   "outputs": [],
   "source": [
    "\n",
    "if populate_db:\n",
    "    db=connect_db() #establish connection\n",
    "    Session = sessionmaker(bind=db)\n",
    "    session = Session() \n",
    "    save_to_database_ORM(session, bld_df)"
   ]
  },
  {
   "cell_type": "code",
   "execution_count": 27,
   "metadata": {},
   "outputs": [
    {
     "data": {
      "text/plain": [
       "6230"
      ]
     },
     "execution_count": 27,
     "metadata": {},
     "output_type": "execute_result"
    }
   ],
   "source": [
    "session.query(PointsOfInterest).count()\n"
   ]
  },
  {
   "cell_type": "code",
   "execution_count": null,
   "metadata": {},
   "outputs": [],
   "source": []
  }
 ],
 "metadata": {
  "kernelspec": {
   "display_name": "Python 3",
   "language": "python",
   "name": "python3"
  },
  "language_info": {
   "codemirror_mode": {
    "name": "ipython",
    "version": 3
   },
   "file_extension": ".py",
   "mimetype": "text/x-python",
   "name": "python",
   "nbconvert_exporter": "python",
   "pygments_lexer": "ipython3",
   "version": "3.7.0"
  }
 },
 "nbformat": 4,
 "nbformat_minor": 2
}
