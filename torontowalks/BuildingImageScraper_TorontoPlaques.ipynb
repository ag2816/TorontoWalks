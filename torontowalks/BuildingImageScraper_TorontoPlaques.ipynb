{
 "cells": [
  {
   "cell_type": "markdown",
   "metadata": {},
   "source": [
    "# Web Scrape labelled images of building styles"
   ]
  },
  {
   "cell_type": "markdown",
   "metadata": {},
   "source": [
    "# Toronto Plaques\n",
    "* http://torontoplaques.com/Menu_Subjects.html"
   ]
  },
  {
   "cell_type": "code",
   "execution_count": 1,
   "metadata": {},
   "outputs": [],
   "source": [
    "# Import libaries\n",
    "import requests\n",
    "from bs4 import BeautifulSoup\n",
    "import pandas as pd\n",
    "import numpy as np\n",
    "import string\n",
    "import re\n",
    "import urllib\n",
    "import os\n",
    "import time\n",
    "from datetime import datetime\n",
    "import string"
   ]
  },
  {
   "cell_type": "code",
   "execution_count": 2,
   "metadata": {},
   "outputs": [],
   "source": [
    "def load_page(url):\n",
    "    response = requests.get(url)\n",
    "    if response.status_code == 200:\n",
    "        return response.text\n",
    "    else:\n",
    "        print(f\"Error connecting: status code {response.status_code}\")"
   ]
  },
  {
   "cell_type": "code",
   "execution_count": 8,
   "metadata": {},
   "outputs": [],
   "source": [
    "def load_plaque(plaque_url, name, subject):\n",
    "    #location_text= \"\"\n",
    "    plaque_text = \"\"\n",
    "    plaque_dict = {\n",
    "        'Name':name,\n",
    "        'Subject': subject,\n",
    "        'URL': plaque_url,\n",
    "        'Notes':None,\n",
    "        'Latitude': None,\n",
    "        'Longitude': None\n",
    "    }\n",
    "\n",
    "    #plaque_url=\"/Pages/Alexander_Muir.html\"\n",
    "    plaque_url = f\"{site_root}/{plaque_url}\"\n",
    "    #print(plaque_url)\n",
    "    html = load_page(plaque_url)\n",
    "    soup = BeautifulSoup(html)\n",
    "    try:\n",
    "        coordinates = soup.find('p',{'class':'plaquecoordinates'}).text.strip('Coordinates: ').split(' ')\n",
    "        #print(coordinates)\n",
    "\n",
    "        plaque_dict['Latitude'] = coordinates[0]\n",
    "        plaque_dict['Longitude']=coordinates[1]\n",
    "    except:\n",
    "        # when coordinates is missing, that usually means the plaque has been removed\n",
    "        # skip this plaque\n",
    "        return None\n",
    "    \n",
    "    try:\n",
    "        plaque_text = soup.find('p',{'class':'locationtext'}).text\n",
    "        plaque_text += \" \"\n",
    "    except:\n",
    "        pass\n",
    "        # sometimes this element doesn't exist -- no worries\n",
    "    \n",
    "    try:\n",
    "        plaque_text += soup.find('p',{'class':'plaquetext'}).text\n",
    "    except:\n",
    "        pass\n",
    "    \n",
    "    \n",
    "    plaque_dict['Notes']=plaque_text\n",
    "    #plaque_dict['Notes']=soup.find('p',{'class':'locationtext'}).text\n",
    "    plaques_list\n",
    "    return plaque_dict\n"
   ]
  },
  {
   "cell_type": "code",
   "execution_count": 11,
   "metadata": {},
   "outputs": [],
   "source": [
    "def load_subject_page(page_url,subject):\n",
    "#     subject = 'Arts'\n",
    "#     page_url=\"Subjects/Arts.html\"\n",
    "    page_url = f\"{site_root}/{page_url}\"\n",
    "    print(page_url)\n",
    "    html = load_page(page_url)\n",
    "    soup = BeautifulSoup(html)\n",
    "\n",
    "\n",
    "    #plaques = soup.find('div', {'id':'tablelinks'}).findAll('a')#,{'width': '70%'})\n",
    "    plaques = soup.find('div', {'id':'tablelinks'}).findAll('td',{'width': '70%'})\n",
    "    for plaque in plaques:\n",
    "       # print(plaque)\n",
    "        plaque = plaque.find('a')\n",
    "        name=plaque.text.strip()\n",
    "        plaque_url = plaque.get_attribute_list('href')[0].strip('..')\n",
    "        #print(plaque_url)    \n",
    "        plaque_dict = load_plaque(plaque_url, name, subject)\n",
    "        if plaque_dict!= None:\n",
    "            plaques_list.append(plaque_dict)\n"
   ]
  },
  {
   "cell_type": "code",
   "execution_count": 10,
   "metadata": {},
   "outputs": [
    {
     "name": "stdout",
     "output_type": "stream",
     "text": [
      "http://torontoplaques.com//Subjects/Medicine.html\n",
      "/Pages/Discovery_of_Insulin.html\n",
      "/Pages/Doctors_and_Nurses.html\n",
      "/Pages/Dr_Emily_Stowe.html\n",
      "/Pages/Dr_John_G_C_Adams.html\n",
      "/Pages/Dr_William_D_Young_Memorial.html\n",
      "/Pages/Dr_William_T_Mustard.html\n",
      "/Pages/Enid_Gordon_Graham.html\n",
      "/Pages/First_External_Cardiac_Pacemaker.html\n",
      "/Pages/Honourable_Herbert_Alexander_Bruce.html\n",
      "/Pages/John_James_Rickard_Macleod.html\n",
      "/Pages/Mary_Agnes_Snively.html\n",
      "/Pages/Maud_Leonora_Menten.html\n",
      "/Pages/Paul_E_Garfinkel_Park.html\n",
      "/Pages/Rolph_School.html\n",
      "/Pages/Sir_Frederick_Banting.html\n",
      "/Pages/St_John_Ambulance_in_Ontario.html\n"
     ]
    }
   ],
   "source": [
    "#load_subject_page('/Subjects/Medicine.html','Medicine')"
   ]
  },
  {
   "cell_type": "markdown",
   "metadata": {},
   "source": [
    "### Set up base variables"
   ]
  },
  {
   "cell_type": "code",
   "execution_count": 5,
   "metadata": {},
   "outputs": [],
   "source": [
    "# search by Builidng Type\n",
    "main_page = 'http://torontoplaques.com/Menu_Subjects.html'\n",
    "#style_url=\"http://www.acotoronto.ca/search_buildingsDB_d2.php\"\n",
    "site_root = \"http://torontoplaques.com\"\n",
    "debug=False\n",
    "plaques_list = []\n"
   ]
  },
  {
   "cell_type": "code",
   "execution_count": 12,
   "metadata": {},
   "outputs": [
    {
     "name": "stdout",
     "output_type": "stream",
     "text": [
      "http://torontoplaques.com/Subjects/Medicine.html\n",
      "http://torontoplaques.com/Subjects/Parks.html\n",
      "http://torontoplaques.com/Subjects/Pioneers.html\n",
      "http://torontoplaques.com/Subjects/Public.html\n",
      "http://torontoplaques.com/Subjects/Religious.html\n",
      "http://torontoplaques.com/Subjects/Residential.html\n",
      "http://torontoplaques.com/Subjects/Rivers.html\n",
      "http://torontoplaques.com/Subjects/Educational.html\n",
      "http://torontoplaques.com/Subjects/Science.html\n",
      "http://torontoplaques.com/Subjects/Sports.html\n",
      "http://torontoplaques.com/Subjects/Towns.html\n",
      "http://torontoplaques.com/Subjects/Transportation.html\n",
      "http://torontoplaques.com/Subjects/Women.html\n"
     ]
    }
   ],
   "source": [
    "\n",
    "html = load_page(main_page)\n",
    "soup = BeautifulSoup(html)\n",
    "subjects = soup.find('div', {'id':'tablelinks'}).findChildren('a')\n",
    "for subject in subjects:\n",
    "    asubj = subject.text.strip()\n",
    "    subject_url = subject.get_attribute_list('href')[0]\n",
    "  #  print(subject_url)\n",
    "    load_subject_page(subject_url,asubj)\n",
    "#     buildings_list.extend(building_types_pages(bld_type_url))\n",
    "    time.sleep(5)\n",
    "    plq_df = pd.DataFrame(plaques_list)\n",
    "    plq_df.to_csv('../data/toronto_plaques_' + str(round(time.time(),0)) + '.csv')\n"
   ]
  },
  {
   "cell_type": "code",
   "execution_count": null,
   "metadata": {},
   "outputs": [],
   "source": []
  },
  {
   "cell_type": "code",
   "execution_count": null,
   "metadata": {},
   "outputs": [],
   "source": [
    "bld_df = pd.DataFrame(plaques_list)"
   ]
  },
  {
   "cell_type": "code",
   "execution_count": null,
   "metadata": {},
   "outputs": [],
   "source": [
    "bld_df.head(20)"
   ]
  },
  {
   "cell_type": "code",
   "execution_count": null,
   "metadata": {},
   "outputs": [],
   "source": [
    "bld_df.to_csv('../data/toronto_plaques_'+ str(round(time.time(),0)) + '.csv')"
   ]
  },
  {
   "cell_type": "code",
   "execution_count": null,
   "metadata": {},
   "outputs": [],
   "source": [
    "#"
   ]
  },
  {
   "cell_type": "code",
   "execution_count": null,
   "metadata": {},
   "outputs": [],
   "source": []
  }
 ],
 "metadata": {
  "kernelspec": {
   "display_name": "Python 3",
   "language": "python",
   "name": "python3"
  },
  "language_info": {
   "codemirror_mode": {
    "name": "ipython",
    "version": 3
   },
   "file_extension": ".py",
   "mimetype": "text/x-python",
   "name": "python",
   "nbconvert_exporter": "python",
   "pygments_lexer": "ipython3",
   "version": "3.7.0"
  }
 },
 "nbformat": 4,
 "nbformat_minor": 2
}
