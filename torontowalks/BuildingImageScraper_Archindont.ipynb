{
 "cells": [
  {
   "cell_type": "markdown",
   "metadata": {},
   "source": [
    "# Web Scrape labelled images of building styles"
   ]
  },
  {
   "cell_type": "markdown",
   "metadata": {},
   "source": [
    "# Architectural Index for Ontario - Archindont\n",
    "* Archindont is a database of architectural information and citations to periodical articles and books about buildings in Toronto.\n",
    "* list of building types: http://archindont.torontopubliclibrary.ca/Arch/search.do;jsessionid=jzKVTS6juZ65uhz4EA9tv9K7\n",
    "http://archindont.torontopubliclibrary.ca/Arch/main.do"
   ]
  },
  {
   "cell_type": "code",
   "execution_count": 2,
   "metadata": {},
   "outputs": [],
   "source": [
    "# Import libaries\n",
    "import requests\n",
    "from bs4 import BeautifulSoup\n",
    "import pandas as pd\n",
    "import numpy as np\n",
    "import string\n",
    "import re\n",
    "import urllib\n",
    "import os\n",
    "import time\n",
    "from datetime import datetime\n",
    "import string"
   ]
  },
  {
   "cell_type": "code",
   "execution_count": 3,
   "metadata": {},
   "outputs": [],
   "source": [
    "from sqlalchemy import create_engine, Column, Integer, String, Sequence, Float\n",
    "from sqlalchemy.ext.declarative import declarative_base\n",
    "from sqlalchemy.orm import sessionmaker\n",
    "from models import connect_db, PointsOfInterest, ArchitecturalStyles, Architects,POICategories"
   ]
  },
  {
   "cell_type": "code",
   "execution_count": 4,
   "metadata": {},
   "outputs": [],
   "source": [
    "# search by Builidng Type\n",
    "main_page = 'http://archindont.torontopubliclibrary.ca/Arch/search.do?searchType=Typ&initial='\n",
    "#style_url=\"http://www.acotoronto.ca/search_buildingsDB_d2.php\"\n",
    "site_root = \"http://archindont.torontopubliclibrary.ca\"\n",
    "debug=False\n",
    "buildings_list=[]\n",
    "rerun_webscrape=False # rerun all  webscraping\n",
    "populate_db = False # repopulate database"
   ]
  },
  {
   "cell_type": "code",
   "execution_count": 3,
   "metadata": {},
   "outputs": [],
   "source": [
    "def load_page(url):\n",
    "    response = requests.get(url)\n",
    "    if response.status_code == 200:\n",
    "        return response.text\n",
    "    else:\n",
    "        print(f\"Error connecting: status code {response.status_code}\")"
   ]
  },
  {
   "cell_type": "code",
   "execution_count": 4,
   "metadata": {},
   "outputs": [],
   "source": [
    "def building_types_pages(type_url):\n",
    "    '''\n",
    "    Returns list of dictionaries where each dictionary is info about one building\n",
    "    To Test: /Arch/buildingType.do;jsessionid=A2ZMTUjOxuCFc4yaAxah-Nws?type=Apartment+Houses&typeID=18'\n",
    "    '''\n",
    "    buildings=[]\n",
    "    flags_dict = {\n",
    "            'Address:':None,\n",
    "            'Type of Building:': None,\n",
    "            'Name of Building:': None,\n",
    "            'Notes:':None,\n",
    "            'Building completed': None,\n",
    "            'Demolished': None,\n",
    "           'Architects:': None\n",
    "        }\n",
    "    throw_flag = False\n",
    "    flag = None\n",
    "\n",
    "    \n",
    "    type_url = f\"{site_root}/{type_url}\"\n",
    "    html = load_page(type_url)\n",
    "    soup = BeautifulSoup(html)\n",
    "    for tag in soup.recursiveChildGenerator():\n",
    "        if tag.name in ['th','td']:\n",
    "            \n",
    "            if tag.text == 'Address:' and flags_dict['Address:'] != None:\n",
    "                # new building but skip the first building in the page\n",
    "                buildings.append(flags_dict) # write out dict for prev building\n",
    "                flags_dict = {\n",
    "                    'Address:':None,\n",
    "                    'Type of Building:': None,\n",
    "                    'Name of Building:': None,\n",
    "                    'Notes:':None,\n",
    "                    'Building completed': None,\n",
    "                    'Demolished': None,\n",
    "                   'Architects:': None\n",
    "                }\n",
    "            if throw_flag:\n",
    "               # print(f\"{flag} {tag.text.strip()}\")\n",
    "                flags_dict[flag] = tag.text.strip()\n",
    "                throw_flag = False\n",
    "            if tag.text.strip() in flags_dict.keys():\n",
    "               # print(tag.text)\n",
    "                throw_flag = True\n",
    "                flag = tag.text.strip()\n",
    "\n",
    "    return buildings    "
   ]
  },
  {
   "cell_type": "code",
   "execution_count": 23,
   "metadata": {},
   "outputs": [],
   "source": [
    "def run_webscript():\n",
    "    for char in string.ascii_uppercase[25]:\n",
    "        letter_url = f\"{main_page}{char}\"\n",
    "        html = load_page(letter_url)\n",
    "        soup = BeautifulSoup(html)\n",
    "        bld_types = soup.find('form', {'name':'SearchResultsForm'}).findChildren('li')\n",
    "        for style in bld_types:\n",
    "            bld_type_url = style.find('a').get_attribute_list('href')[0]\n",
    "            buildings_list.extend(building_types_pages(bld_type_url))\n",
    "            time.sleep(5)\n",
    "        bld_df = pd.DataFrame(buildings_list)\n",
    "        bld_df.to_csv('../data/archidont_buildings_'+ str(char) + str(round(time.time(),0)) + '.csv')\n"
   ]
  },
  {
   "cell_type": "code",
   "execution_count": null,
   "metadata": {},
   "outputs": [],
   "source": [
    "def save_to_database_ORM(session, df):\n",
    "    '''\n",
    "    Saves scraped data to database using SqlAlchemy ORM\n",
    "    Updates three tables: points_of_interest, archtectural_styles, architects\n",
    "    The relationship between these tables is defined in models.py, so it automatically populates the poi_id column\n",
    "    in the child tables with the poi_id of the main entry \n",
    "    '''\n",
    "    \n",
    "    for index, row in df.iterrows():\n",
    "        \n",
    "        poi_dict ={df_to_db_map[k]:v for k, v in row.items() if k in df_to_db_map.keys() and not pd.isnull(v)}\n",
    "\n",
    "        poi = PointsOfInterest(**poi_dict )\n",
    "\n",
    "#         # define style -- no style for Archidont buildings\n",
    "#         style=ArchitecturalStyles(style=row['Style'])\n",
    "#         poi.styles.append(style)\n",
    "        \n",
    "        # architects (can be multiple)\n",
    "        if pd.isnull(row['Architects:']) == False:\n",
    "            prev_company=\"\"\n",
    "            #split multiple architects on \\r\\n\n",
    "            for company in row['Architects:'].split('\\r\\n'):\n",
    "                if company != prev_company:\n",
    "                    architect = Architects(architect_name= company.replace(\"'\",\"''\"))\n",
    "                    poi.architects.append(architect)\n",
    "                    prev_company=company\n",
    "        session.add(poi)\n",
    "        session.commit()"
   ]
  },
  {
   "cell_type": "code",
   "execution_count": 59,
   "metadata": {},
   "outputs": [
    {
     "data": {
      "text/html": [
       "<div>\n",
       "<style scoped>\n",
       "    .dataframe tbody tr th:only-of-type {\n",
       "        vertical-align: middle;\n",
       "    }\n",
       "\n",
       "    .dataframe tbody tr th {\n",
       "        vertical-align: top;\n",
       "    }\n",
       "\n",
       "    .dataframe thead th {\n",
       "        text-align: right;\n",
       "    }\n",
       "</style>\n",
       "<table border=\"1\" class=\"dataframe\">\n",
       "  <thead>\n",
       "    <tr style=\"text-align: right;\">\n",
       "      <th></th>\n",
       "      <th>Address:</th>\n",
       "      <th>Architects:</th>\n",
       "      <th>Building completed</th>\n",
       "      <th>Demolished</th>\n",
       "      <th>Name of Building:</th>\n",
       "      <th>Notes:</th>\n",
       "      <th>Type of Building:</th>\n",
       "    </tr>\n",
       "  </thead>\n",
       "  <tbody>\n",
       "    <tr>\n",
       "      <th>0</th>\n",
       "      <td>0 Laughton Avenue</td>\n",
       "      <td>NaN</td>\n",
       "      <td>1929</td>\n",
       "      <td>c2000</td>\n",
       "      <td>Jane Parker Bakery</td>\n",
       "      <td>Will be demolished to make way for Jane Parker...</td>\n",
       "      <td>Bakeries</td>\n",
       "    </tr>\n",
       "    <tr>\n",
       "      <th>1</th>\n",
       "      <td>63 Walker Avenue</td>\n",
       "      <td>NaN</td>\n",
       "      <td>NaN</td>\n",
       "      <td>NaN</td>\n",
       "      <td>Hunt's Bakery</td>\n",
       "      <td>HUnt's Bakery operated here from 1928-1979.  S...</td>\n",
       "      <td>Bakeries</td>\n",
       "    </tr>\n",
       "    <tr>\n",
       "      <th>2</th>\n",
       "      <td>165 Avenue Road</td>\n",
       "      <td>Lyle John</td>\n",
       "      <td>1930</td>\n",
       "      <td>NaN</td>\n",
       "      <td>NaN</td>\n",
       "      <td>NaN</td>\n",
       "      <td>Banks</td>\n",
       "    </tr>\n",
       "    <tr>\n",
       "      <th>3</th>\n",
       "      <td>420 Bloor Street East</td>\n",
       "      <td>Lyle John</td>\n",
       "      <td>1911</td>\n",
       "      <td>NaN</td>\n",
       "      <td>Toronto Dominion Bank</td>\n",
       "      <td>NaN</td>\n",
       "      <td>Banks</td>\n",
       "    </tr>\n",
       "    <tr>\n",
       "      <th>4</th>\n",
       "      <td>539 Bloor Street West</td>\n",
       "      <td>Horsburgh V.C.</td>\n",
       "      <td>1914</td>\n",
       "      <td>NaN</td>\n",
       "      <td>Canadian Bank of Commerce</td>\n",
       "      <td>Now houses Pauper's Pub.</td>\n",
       "      <td>Banks</td>\n",
       "    </tr>\n",
       "  </tbody>\n",
       "</table>\n",
       "</div>"
      ],
      "text/plain": [
       "                Address:     Architects: Building completed Demolished  \\\n",
       "0      0 Laughton Avenue             NaN               1929      c2000   \n",
       "1       63 Walker Avenue             NaN                NaN        NaN   \n",
       "2        165 Avenue Road       Lyle John               1930        NaN   \n",
       "3  420 Bloor Street East       Lyle John               1911        NaN   \n",
       "4  539 Bloor Street West  Horsburgh V.C.               1914        NaN   \n",
       "\n",
       "           Name of Building:  \\\n",
       "0         Jane Parker Bakery   \n",
       "1              Hunt's Bakery   \n",
       "2                        NaN   \n",
       "3      Toronto Dominion Bank   \n",
       "4  Canadian Bank of Commerce   \n",
       "\n",
       "                                              Notes: Type of Building:  \n",
       "0  Will be demolished to make way for Jane Parker...          Bakeries  \n",
       "1  HUnt's Bakery operated here from 1928-1979.  S...          Bakeries  \n",
       "2                                                NaN             Banks  \n",
       "3                                                NaN             Banks  \n",
       "4                           Now houses Pauper's Pub.             Banks  "
      ]
     },
     "execution_count": 59,
     "metadata": {},
     "output_type": "execute_result"
    }
   ],
   "source": [
    "if rerun_webscrape:\n",
    "    run_webscript()\n",
    "    bld_df = pd.DataFrame(buildings_list)\n",
    "    bld_df.to_csv('../data/archidont_buildings_'+ str(round(time.time(),0)) + '.csv')\n",
    "else:\n",
    "    bld_df=pd.read_csv('../data/archidont_buildingsB_Z.csv',index_col=0)\n",
    "bld_df.head()"
   ]
  },
  {
   "cell_type": "code",
   "execution_count": 60,
   "metadata": {},
   "outputs": [],
   "source": [
    "db=connect_db() #establish connection\n",
    "Session = sessionmaker(bind=db)\n",
    "session = Session() "
   ]
  },
  {
   "cell_type": "code",
   "execution_count": 61,
   "metadata": {},
   "outputs": [],
   "source": [
    "df_to_db_map={\n",
    "    'Name of Building:':'name',\n",
    "    'Building completed':'build_year'   ,\n",
    "    'Demolished' :'demolished_year',\n",
    "    'Address:' :'address' ,\n",
    "    'Bld_link':'external_url',\n",
    "    'Notes:': 'details',\n",
    "    'Type of Building:':'poi_type'\n",
    "}"
   ]
  },
  {
   "cell_type": "code",
   "execution_count": 63,
   "metadata": {},
   "outputs": [],
   "source": [
    "if populate_db:\n",
    "    save_to_database_ORM(session, bld_df)"
   ]
  },
  {
   "cell_type": "code",
   "execution_count": null,
   "metadata": {},
   "outputs": [],
   "source": []
  }
 ],
 "metadata": {
  "kernelspec": {
   "display_name": "Python 3",
   "language": "python",
   "name": "python3"
  },
  "language_info": {
   "codemirror_mode": {
    "name": "ipython",
    "version": 3
   },
   "file_extension": ".py",
   "mimetype": "text/x-python",
   "name": "python",
   "nbconvert_exporter": "python",
   "pygments_lexer": "ipython3",
   "version": "3.7.0"
  }
 },
 "nbformat": 4,
 "nbformat_minor": 2
}
