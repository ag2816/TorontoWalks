{
 "cells": [
  {
   "cell_type": "markdown",
   "metadata": {},
   "source": [
    "# Web Scrape labelled images of building styles"
   ]
  },
  {
   "cell_type": "markdown",
   "metadata": {},
   "source": [
    "# Toronto Plaques\n",
    "* http://torontoplaques.com/Menu_Subjects.html"
   ]
  },
  {
   "cell_type": "code",
   "execution_count": 1,
   "metadata": {},
   "outputs": [],
   "source": [
    "# Import libaries\n",
    "import requests\n",
    "from bs4 import BeautifulSoup\n",
    "import pandas as pd\n",
    "import numpy as np\n",
    "import string\n",
    "import re\n",
    "import urllib\n",
    "import os\n",
    "import time\n",
    "from datetime import datetime\n",
    "import string"
   ]
  },
  {
   "cell_type": "code",
   "execution_count": 2,
   "metadata": {},
   "outputs": [],
   "source": [
    "from sqlalchemy import create_engine, Column, Integer, String, Sequence, Float\n",
    "from sqlalchemy.ext.declarative import declarative_base\n",
    "from sqlalchemy.orm import sessionmaker\n",
    "from models import connect_db, PointsOfInterest, ArchitecturalStyles, Architects,POICategories"
   ]
  },
  {
   "cell_type": "code",
   "execution_count": 3,
   "metadata": {},
   "outputs": [],
   "source": [
    "# search by Builidng Type\n",
    "main_page = 'http://torontoplaques.com/Menu_Subjects.html'\n",
    "#style_url=\"http://www.acotoronto.ca/search_buildingsDB_d2.php\"\n",
    "site_root = \"http://torontoplaques.com\"\n",
    "debug=False\n",
    "plaques_list = []\n",
    "\n",
    "rerun_webscrape=False # rerun all  webscraping\n",
    "populate_db = False # repopulate database"
   ]
  },
  {
   "cell_type": "code",
   "execution_count": null,
   "metadata": {},
   "outputs": [],
   "source": [
    "def load_page(url):\n",
    "    response = requests.get(url)\n",
    "    if response.status_code == 200:\n",
    "        return response.text\n",
    "    else:\n",
    "        print(f\"Error connecting: status code {response.status_code}\")"
   ]
  },
  {
   "cell_type": "code",
   "execution_count": null,
   "metadata": {},
   "outputs": [],
   "source": [
    "def load_plaque(plaque_url, name, subject):\n",
    "    #location_text= \"\"\n",
    "    plaque_text = \"\"\n",
    "    plaque_dict = {\n",
    "        'Name':name,\n",
    "        'Subject': subject,\n",
    "        'URL': plaque_url,\n",
    "        'Notes':None,\n",
    "        'Latitude': None,\n",
    "        'Longitude': None\n",
    "    }\n",
    "\n",
    "    #plaque_url=\"/Pages/Alexander_Muir.html\"\n",
    "    plaque_url = f\"{site_root}/{plaque_url}\"\n",
    "    #print(plaque_url)\n",
    "    html = load_page(plaque_url)\n",
    "    soup = BeautifulSoup(html)\n",
    "    try:\n",
    "        coordinates = soup.find('p',{'class':'plaquecoordinates'}).text.strip('Coordinates: ').split(' ')\n",
    "        #print(coordinates)\n",
    "\n",
    "        plaque_dict['Latitude'] = coordinates[0]\n",
    "        plaque_dict['Longitude']=coordinates[1]\n",
    "    except:\n",
    "        # when coordinates is missing, that usually means the plaque has been removed\n",
    "        # skip this plaque\n",
    "        return None\n",
    "    \n",
    "    try:\n",
    "        plaque_text = soup.find('p',{'class':'locationtext'}).text\n",
    "        plaque_text += \" \"\n",
    "    except:\n",
    "        pass\n",
    "        # sometimes this element doesn't exist -- no worries\n",
    "    \n",
    "    try:\n",
    "        plaque_text += soup.find('p',{'class':'plaquetext'}).text\n",
    "    except:\n",
    "        pass\n",
    "    \n",
    "    \n",
    "    plaque_dict['Notes']=plaque_text\n",
    "    #plaque_dict['Notes']=soup.find('p',{'class':'locationtext'}).text\n",
    "    plaques_list\n",
    "    return plaque_dict\n"
   ]
  },
  {
   "cell_type": "code",
   "execution_count": null,
   "metadata": {},
   "outputs": [],
   "source": [
    "def load_subject_page(page_url,subject):\n",
    "#     subject = 'Arts'\n",
    "#     page_url=\"Subjects/Arts.html\"\n",
    "    page_url = f\"{site_root}/{page_url}\"\n",
    "    print(page_url)\n",
    "    html = load_page(page_url)\n",
    "    soup = BeautifulSoup(html)\n",
    "\n",
    "\n",
    "    #plaques = soup.find('div', {'id':'tablelinks'}).findAll('a')#,{'width': '70%'})\n",
    "    plaques = soup.find('div', {'id':'tablelinks'}).findAll('td',{'width': '70%'})\n",
    "    for plaque in plaques:\n",
    "       # print(plaque)\n",
    "        plaque = plaque.find('a')\n",
    "        name=plaque.text.strip()\n",
    "        plaque_url = plaque.get_attribute_list('href')[0].strip('..')\n",
    "        #print(plaque_url)    \n",
    "        plaque_dict = load_plaque(plaque_url, name, subject)\n",
    "        if plaque_dict!= None:\n",
    "            plaques_list.append(plaque_dict)\n"
   ]
  },
  {
   "cell_type": "code",
   "execution_count": null,
   "metadata": {},
   "outputs": [],
   "source": [
    "#load_subject_page('/Subjects/Medicine.html','Medicine')"
   ]
  },
  {
   "cell_type": "code",
   "execution_count": null,
   "metadata": {},
   "outputs": [],
   "source": [
    "def run_webscrape():\n",
    "    html = load_page(main_page)\n",
    "    soup = BeautifulSoup(html)\n",
    "    subjects = soup.find('div', {'id':'tablelinks'}).findChildren('a')\n",
    "    for subject in subjects:\n",
    "        asubj = subject.text.strip()\n",
    "        subject_url = subject.get_attribute_list('href')[0]\n",
    "      #  print(subject_url)\n",
    "        load_subject_page(subject_url,asubj)\n",
    "    #     buildings_list.extend(building_types_pages(bld_type_url))\n",
    "        time.sleep(5)\n",
    "        plq_df = pd.DataFrame(plaques_list)\n",
    "        plq_df.to_csv('../data/toronto_plaques_' + str(round(time.time(),0)) + '.csv')\n"
   ]
  },
  {
   "cell_type": "code",
   "execution_count": 4,
   "metadata": {},
   "outputs": [],
   "source": [
    "def cleanup_data(df):\n",
    "    # make url complete\n",
    "    bld_df['URL'] =bld_df['URL'].apply(lambda x: f'{site_root}{x}' )\n",
    "    bld_df['Latitude']=bld_df['Latitude'].apply(lambda x: float(x.replace(',','')))\n",
    "    return df"
   ]
  },
  {
   "cell_type": "code",
   "execution_count": 5,
   "metadata": {},
   "outputs": [
    {
     "data": {
      "text/html": [
       "<div>\n",
       "<style scoped>\n",
       "    .dataframe tbody tr th:only-of-type {\n",
       "        vertical-align: middle;\n",
       "    }\n",
       "\n",
       "    .dataframe tbody tr th {\n",
       "        vertical-align: top;\n",
       "    }\n",
       "\n",
       "    .dataframe thead th {\n",
       "        text-align: right;\n",
       "    }\n",
       "</style>\n",
       "<table border=\"1\" class=\"dataframe\">\n",
       "  <thead>\n",
       "    <tr style=\"text-align: right;\">\n",
       "      <th></th>\n",
       "      <th>Latitude</th>\n",
       "      <th>Longitude</th>\n",
       "      <th>Name</th>\n",
       "      <th>Notes</th>\n",
       "      <th>Subject</th>\n",
       "      <th>URL</th>\n",
       "    </tr>\n",
       "  </thead>\n",
       "  <tbody>\n",
       "    <tr>\n",
       "      <th>0</th>\n",
       "      <td>43.663153</td>\n",
       "      <td>-79.327211</td>\n",
       "      <td>Alexander Muir 1830-1906</td>\n",
       "      <td>A maple tree on the southwest corner of Laing ...</td>\n",
       "      <td>Arts</td>\n",
       "      <td>http://torontoplaques.com/Pages/Alexander_Muir...</td>\n",
       "    </tr>\n",
       "    <tr>\n",
       "      <th>1</th>\n",
       "      <td>43.662050</td>\n",
       "      <td>-79.379730</td>\n",
       "      <td>The Beatles</td>\n",
       "      <td>Inside the former Maple Leaf Gardens, now a Lo...</td>\n",
       "      <td>Arts</td>\n",
       "      <td>http://torontoplaques.com/Pages/Beatles.html</td>\n",
       "    </tr>\n",
       "    <tr>\n",
       "      <th>2</th>\n",
       "      <td>43.643193</td>\n",
       "      <td>-79.423296</td>\n",
       "      <td>The Beatrice Lillie Building</td>\n",
       "      <td>Here at 1115 Queen Street West at Lisgar Stree...</td>\n",
       "      <td>Arts</td>\n",
       "      <td>http://torontoplaques.com/Pages/Beatrice_Lilli...</td>\n",
       "    </tr>\n",
       "    <tr>\n",
       "      <th>3</th>\n",
       "      <td>43.650811</td>\n",
       "      <td>-79.382486</td>\n",
       "      <td>Bernard Keble Sandwell (1876-1954)</td>\n",
       "      <td>I used to read Saturday Night magazine quite r...</td>\n",
       "      <td>Arts</td>\n",
       "      <td>http://torontoplaques.com/Pages/Bernard_Keble_...</td>\n",
       "    </tr>\n",
       "    <tr>\n",
       "      <th>4</th>\n",
       "      <td>43.671150</td>\n",
       "      <td>-79.387080</td>\n",
       "      <td>Boris Volkoff</td>\n",
       "      <td>This 2009 Heritage Toronto plaque can be found...</td>\n",
       "      <td>Arts</td>\n",
       "      <td>http://torontoplaques.com/Pages/Boris_Volkoff....</td>\n",
       "    </tr>\n",
       "  </tbody>\n",
       "</table>\n",
       "</div>"
      ],
      "text/plain": [
       "    Latitude  Longitude                                Name  \\\n",
       "0  43.663153 -79.327211            Alexander Muir 1830-1906   \n",
       "1  43.662050 -79.379730                         The Beatles   \n",
       "2  43.643193 -79.423296        The Beatrice Lillie Building   \n",
       "3  43.650811 -79.382486  Bernard Keble Sandwell (1876-1954)   \n",
       "4  43.671150 -79.387080                       Boris Volkoff   \n",
       "\n",
       "                                               Notes Subject  \\\n",
       "0  A maple tree on the southwest corner of Laing ...    Arts   \n",
       "1  Inside the former Maple Leaf Gardens, now a Lo...    Arts   \n",
       "2  Here at 1115 Queen Street West at Lisgar Stree...    Arts   \n",
       "3  I used to read Saturday Night magazine quite r...    Arts   \n",
       "4  This 2009 Heritage Toronto plaque can be found...    Arts   \n",
       "\n",
       "                                                 URL  \n",
       "0  http://torontoplaques.com/Pages/Alexander_Muir...  \n",
       "1       http://torontoplaques.com/Pages/Beatles.html  \n",
       "2  http://torontoplaques.com/Pages/Beatrice_Lilli...  \n",
       "3  http://torontoplaques.com/Pages/Bernard_Keble_...  \n",
       "4  http://torontoplaques.com/Pages/Boris_Volkoff....  "
      ]
     },
     "execution_count": 5,
     "metadata": {},
     "output_type": "execute_result"
    }
   ],
   "source": [
    "if rerun_webscrape:\n",
    "    run_webscrape()\n",
    "    plq_df = pd.DataFrame(plaques_list)\n",
    "    plq_df.to_csv('../data/toronto_plaques_' + str(round(time.time(),0)) + '.csv')\n",
    "else:\n",
    "    bld_df=pd.read_csv('../data/toronto_plaques_1543013801.0.csv',index_col=0)\n",
    "    bld_df=cleanup_data(bld_df)\n",
    "bld_df.head()"
   ]
  },
  {
   "cell_type": "code",
   "execution_count": 6,
   "metadata": {},
   "outputs": [
    {
     "name": "stdout",
     "output_type": "stream",
     "text": [
      "<class 'pandas.core.frame.DataFrame'>\n",
      "Int64Index: 1133 entries, 0 to 1132\n",
      "Data columns (total 6 columns):\n",
      "Latitude     1133 non-null float64\n",
      "Longitude    1132 non-null float64\n",
      "Name         1133 non-null object\n",
      "Notes        1133 non-null object\n",
      "Subject      1133 non-null object\n",
      "URL          1133 non-null object\n",
      "dtypes: float64(2), object(4)\n",
      "memory usage: 62.0+ KB\n"
     ]
    }
   ],
   "source": [
    "bld_df.info()"
   ]
  },
  {
   "cell_type": "code",
   "execution_count": 7,
   "metadata": {},
   "outputs": [],
   "source": [
    "df_to_db_map={\n",
    "    'Name':'name',\n",
    "    'Latitude' :'latitude' ,\n",
    "    'Longitude' :'longitude' ,\n",
    "    'URL':'external_url',\n",
    "    'Notes': 'details',\n",
    "}"
   ]
  },
  {
   "cell_type": "code",
   "execution_count": 8,
   "metadata": {},
   "outputs": [],
   "source": [
    "def save_to_database_ORM(session, df):\n",
    "    '''\n",
    "    Saves scraped data to database using SqlAlchemy ORM\n",
    "    Updates three tables: points_of_interest, archtectural_styles, architects\n",
    "    The relationship between these tables is defined in models.py, so it automatically populates the poi_id column\n",
    "    in the child tables with the poi_id of the main entry \n",
    "    '''\n",
    "    \n",
    "    for index, row in df.iterrows():\n",
    "        \n",
    "        poi_dict ={df_to_db_map[k]:v for k, v in row.items() if k in df_to_db_map.keys() and not pd.isnull(v)}\n",
    "        poi_dict['poi_type']=\"Plaque\"\n",
    "        poi_dict['source']= site_root\n",
    "        # hardcode type to plaque \n",
    "\n",
    "        poi = PointsOfInterest(**poi_dict )\n",
    "        \n",
    "        # define category \n",
    "        cat=POICategories(category=row['Subject'])\n",
    "        poi.categories.append(cat)\n",
    "\n",
    "        session.add(poi)\n",
    "        session.commit()"
   ]
  },
  {
   "cell_type": "code",
   "execution_count": 9,
   "metadata": {},
   "outputs": [],
   "source": [
    "\n",
    "if populate_db:\n",
    "    db=connect_db() #establish connection\n",
    "    Session = sessionmaker(bind=db)\n",
    "    session = Session() \n",
    "    save_to_database_ORM(session, bld_df)"
   ]
  },
  {
   "cell_type": "code",
   "execution_count": null,
   "metadata": {},
   "outputs": [],
   "source": []
  }
 ],
 "metadata": {
  "kernelspec": {
   "display_name": "Python 3",
   "language": "python",
   "name": "python3"
  },
  "language_info": {
   "codemirror_mode": {
    "name": "ipython",
    "version": 3
   },
   "file_extension": ".py",
   "mimetype": "text/x-python",
   "name": "python",
   "nbconvert_exporter": "python",
   "pygments_lexer": "ipython3",
   "version": "3.7.0"
  }
 },
 "nbformat": 4,
 "nbformat_minor": 2
}
