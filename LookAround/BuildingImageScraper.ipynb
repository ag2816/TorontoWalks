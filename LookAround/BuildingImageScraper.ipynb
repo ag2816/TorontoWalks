{
 "cells": [
  {
   "cell_type": "markdown",
   "metadata": {},
   "source": [
    "# Web Scrape labelled images of building styles"
   ]
  },
  {
   "cell_type": "markdown",
   "metadata": {},
   "source": [
    "The ACOToronto website contains the TOBuilt database -- an open source database of images and information about buildings and structures in toronto.\n",
    "http://www.acotoronto.ca/tobuilt_new_detailed.php\n",
    "\n",
    "Order of actions\n",
    "* we will first use the search tool on the main page to find all the available architectural styles (http://www.acotoronto.ca/tobuilt_new_detailed.php)\n",
    "* then we will call the page for each style.  This page contains a thumbnail image of each building classified in that style, a link for more details and basic info about the building.  \n",
    "Note: you generally have to follow a redirection to get to the style page\n",
    "(http://www.acotoronto.ca/search_buildingsR-d.php?sid=8065)\n",
    "* download the image locally to image/<style>\n",
    "* call building details page to get info on building dates, architects etc\n",
    "(http://www.acotoronto.ca/show_building.php?BuildingID=3883)\n",
    " page is structured with alternating building_info and building_info2 divs\n",
    "building_info contains the name of the info to follow\n",
    "building_info2 contains the value\n",
    "The companies row contains the architects. There can be muliple architects for a building, so these are < li > items.\n",
    "Sometimes the archtect is a hyperlink, but not always, so need to handle both cases specially"
   ]
  },
  {
   "cell_type": "markdown",
   "metadata": {},
   "source": [
    "American colonial\n",
    "Annex Style\n",
    "Art deco\n",
    "Arts and Crafts\n",
    "Beaux arts\n",
    "Brutalist\n",
    "Byzantine\n",
    "Chicago style\n",
    "Classical revival\n",
    "Commercial style\n",
    "Contemporary\n",
    "Deconstructivism\n",
    "Dutch colonial\n",
    "Early modern\n",
    "Edwardian classical\n",
    "English Cottage style\n",
    "Georgian revival\n",
    "Gothic revival\n",
    "Greek revival\n",
    "International style\n",
    "Italianate\n",
    "Late modernist\n",
    "Log construction\n",
    "Mid century expressionist\n",
    "Mirrored tower\n",
    "Modern classical\n",
    "Modern historicist\n",
    "Modernist\n",
    "Neo Palladian\n",
    "Neo-Chateau\n",
    "Neo-Georgian\n",
    "Neo-modernist\n",
    "Neo-Tudor\n",
    "Postmodern\n",
    "Prairie style\n",
    "Queen Anne\n",
    "Regency\n",
    "Renaissance revival\n",
    "Richardsonian Romanesque\n",
    "Romanesque revival\n",
    "Sculptural\n",
    "Second empire\n",
    "Shingle style\n",
    "Spanish colonial\n",
    "Toronto Bay and Gable\n",
    "Workers Cottage"
   ]
  },
  {
   "cell_type": "code",
   "execution_count": null,
   "metadata": {},
   "outputs": [],
   "source": []
  },
  {
   "cell_type": "code",
   "execution_count": null,
   "metadata": {},
   "outputs": [],
   "source": []
  },
  {
   "cell_type": "code",
   "execution_count": 12,
   "metadata": {},
   "outputs": [],
   "source": [
    "# Import libaries\n",
    "import requests\n",
    "from bs4 import BeautifulSoup\n",
    "import pandas as pd\n",
    "import numpy as np\n",
    "import string\n",
    "import re\n",
    "import urllib\n",
    "import os\n",
    "import time\n",
    "from datetime import datetime"
   ]
  },
  {
   "cell_type": "markdown",
   "metadata": {},
   "source": [
    "Load Page"
   ]
  },
  {
   "cell_type": "code",
   "execution_count": 13,
   "metadata": {},
   "outputs": [],
   "source": [
    "def load_page(url):\n",
    "    response = requests.get(url)\n",
    "    if response.status_code == 200:\n",
    "        return response.text\n",
    "    else:\n",
    "        print(f\"Error connecting: status code {response.status_code}\")"
   ]
  },
  {
   "cell_type": "code",
   "execution_count": 26,
   "metadata": {},
   "outputs": [],
   "source": [
    "def download_image(style, img_url):\n",
    "    '''\n",
    "    * downloads image to the appropriate style sub-folder in the images directory (and creates folder if missing)\n",
    "    * to test: download_image('test','/tobuilt_bk/php/Buildingimages/106BedfordRd.jpg')\n",
    "    '''\n",
    "\n",
    "    dest_dir = f\"../Images/{style}\"\n",
    "\n",
    "    if not os.path.exists(dest_dir):\n",
    "        os.makedirs(dest_dir)\n",
    "    full_url = f'{site_root}/{img_url}'\n",
    "    image_path = f\"{dest_dir}/{img_url.split('/')[-1]}\"\n",
    "    res = urllib.request.urlretrieve(full_url, image_path)\n"
   ]
  },
  {
   "cell_type": "markdown",
   "metadata": {},
   "source": [
    "#### Building Details pages\n",
    "* page is structured with alternating building_info and building_info2 divs\n",
    "* building_info contains the name of the info to follow\n",
    "* building_info2 contains the value\n",
    "* The companies row contains the architects.  There can be muliple architects for a building, so these are < li > items.\n",
    "* Sometimes the archtect is a hyperlink, but not always, so need to handle both cases specially"
   ]
  },
  {
   "cell_type": "code",
   "execution_count": 27,
   "metadata": {},
   "outputs": [],
   "source": [
    "def get_building_details(bld_link):\n",
    "    \n",
    "    flags_dict = {\n",
    "        'Completed':None,\n",
    "        'Demolished': None,\n",
    "        'Companies': None,\n",
    "        'Type':None,\n",
    "        'Current use': None,\n",
    "        'Heritage': None,\n",
    "       'Notes': None\n",
    "    }\n",
    "    architects=[]\n",
    "    \n",
    "    full_url = f'{site_root}{bld_link}'\n",
    "    #print(full_url)\n",
    "    html_bld = load_page(full_url)\n",
    "    soup_bld = BeautifulSoup(html_bld)\n",
    "    # get all building info elements\n",
    "    info = soup_bld.find_all('div',{'class': 'building_info'})\n",
    "    for inf in info:\n",
    "        for flag in flags_dict.keys():\n",
    "            if flag in inf.text:\n",
    "                if 'Companies' in flag:\n",
    "                    company_box = inf.find_next()\n",
    "\n",
    "                    if 'Architect - ' in company_box.text:\n",
    "                        li_items = company_box.find_all('li')\n",
    "\n",
    "                        for arc in li_items:\n",
    "                            if (arc.find('span')):\n",
    "                                architect = arc.find('span').previousSibling\n",
    "                                if architect.name =='a':\n",
    "                                    architects.append(architect.text.strip())\n",
    "                                else:\n",
    "                                    architects.append(architect.replace('-','').strip())\n",
    "                                \n",
    "                        flags_dict[flag] = architects\n",
    "                else:\n",
    "                    flags_dict[flag] = inf.find_next().text.strip()\n",
    "    return flags_dict"
   ]
  },
  {
   "cell_type": "markdown",
   "metadata": {},
   "source": [
    "### Get Buildings for style"
   ]
  },
  {
   "cell_type": "code",
   "execution_count": 28,
   "metadata": {},
   "outputs": [],
   "source": [
    "def get_buildings_for_style(soup, style):\n",
    "    buildings=[]\n",
    "   \n",
    "    for building in soup.find_all('div',{'class': 'box'}):\n",
    "        build_style = building.find('div',{'class': 'box_image'})['style']\n",
    "        image_url = re.findall('\\((.*?)\\)', build_style)[0]\n",
    "        build_dict={\n",
    "            'Style':style,\n",
    "            'Name':building.findChild('span',{'class':'title'}).text,\n",
    "            'Bld_link':building.findChild('a').get_attribute_list(key='href')[0],\n",
    "            'Image':image_url,\n",
    "            'Address': str(building.findChild('div',{'class':'the_box_text'}).findChild('p')).replace('<br/>',' ').replace('<p>','').replace('</p>','')\n",
    "        }\n",
    "\n",
    "        download_image(style,image_url)\n",
    "        #follow link to get more info on building\n",
    "        if debug==True: \n",
    "            print(build_dict['Bld_link'])\n",
    "        build_details_dict = get_building_details(build_dict['Bld_link'])\n",
    "        build_dict = {**build_dict, **build_details_dict}\n",
    "        buildings.append(build_dict)\n",
    "   # bld_df = pd.DataFrame(buildings)\n",
    "    return buildings"
   ]
  },
  {
   "cell_type": "code",
   "execution_count": 36,
   "metadata": {},
   "outputs": [],
   "source": [
    "\n",
    "def process_style (style):\n",
    "    print (f\"loading {style}\")\n",
    "    curr_style_url = f\"{style_url}?MainStyle={style}\"\n",
    "    #print(curr_style_url)\n",
    "    html = load_page(curr_style_url)\n",
    "    soup = BeautifulSoup(html)\n",
    "    if 'document.location' in soup.text:\n",
    "        # need to redirect to another page\n",
    "        redirect_url = soup.text.strip().replace('document.location = \"','').replace('\";',\"\")\n",
    "        curr_style_url=f\"{site_root}{redirect_url}\"\n",
    "       # print(curr_style_url)\n",
    "        html2 = load_page(curr_style_url)\n",
    "        soup = BeautifulSoup(html2)\n",
    "        \n",
    "    style_list = get_buildings_for_style(soup, style)\n",
    "    print(style_list)\n",
    "    buildings_list.extend(style_list)"
   ]
  },
  {
   "cell_type": "markdown",
   "metadata": {},
   "source": [
    "### Set up base variables"
   ]
  },
  {
   "cell_type": "code",
   "execution_count": 29,
   "metadata": {},
   "outputs": [],
   "source": [
    "\n",
    "main_page = 'http://www.acotoronto.ca/tobuilt_new_detailed.php'\n",
    "style_url=\"http://www.acotoronto.ca/search_buildingsDB_d2.php\"\n",
    "site_root = \"http://www.acotoronto.ca/\"\n",
    "debug=False\n",
    "buildings_list=[]\n"
   ]
  },
  {
   "cell_type": "code",
   "execution_count": 31,
   "metadata": {},
   "outputs": [
    {
     "name": "stdout",
     "output_type": "stream",
     "text": [
      "American colonial\n",
      "Annex Style\n",
      "Art deco\n",
      "Arts and Crafts\n",
      "Beaux arts\n",
      "Brutalist\n",
      "Byzantine\n",
      "Chicago style\n",
      "Classical revival\n",
      "Commercial style\n",
      "Contemporary\n",
      "Deconstructivism\n",
      "Dutch colonial\n",
      "Early modern\n",
      "Edwardian classical\n",
      "English Cottage style\n",
      "Georgian revival\n",
      "Gothic revival\n",
      "Greek revival\n",
      "International style\n",
      "Italianate\n",
      "Late modernist\n",
      "Log construction\n",
      "Mid century expressionist\n",
      "Mirrored tower\n",
      "Modern classical\n",
      "Modern historicist\n",
      "Modernist\n",
      "Neo Palladian\n",
      "Neo-Chateau\n",
      "Neo-Georgian\n",
      "Neo-modernist\n",
      "Neo-Tudor\n",
      "Postmodern\n",
      "Prairie style\n",
      "Queen Anne\n",
      "Regency\n",
      "Renaissance revival\n",
      "Richardsonian Romanesque\n",
      "Romanesque revival\n",
      "Sculptural\n",
      "Second empire\n",
      "Shingle style\n",
      "Spanish colonial\n",
      "Toronto Bay and Gable\n",
      "Workers Cottage\n",
      "loading American colonial\n",
      "[{'Style': 'American colonial', 'Name': 'Robert Grieg House', 'Bld_link': 'show_building.php?BuildingID=4386', 'Image': '/tobuilt_bk/php/Buildingimages/20ChestnutPark.jpg', 'Address': '20 Chestnut Park Rosedale Toronto', 'Completed': '1905', 'Demolished': None, 'Companies': ['Alfred E. Boultbee'], 'Type': 'Detached house', 'Current use': 'Residential', 'Heritage': 'South Rosedale Heritage Conservation District', 'Notes': 'First Occupant: Greig, Robert\\r\\n\\r\\nFirst OccupantÂ´s Occupation: Pres The Robert Greig Co. Ltd.'}, {'Style': 'American colonial', 'Name': '22 Chestnut Park', 'Bld_link': 'show_building.php?BuildingID=4388', 'Image': '/tobuilt_bk/php/Buildingimages/22ChestnutPark.jpg', 'Address': '22 Chestnut Park Rosedale Toronto', 'Completed': '1905', 'Demolished': None, 'Companies': ['Alfred E. Boultbee'], 'Type': 'Detached house', 'Current use': 'Residential', 'Heritage': 'South Rosedale Heritage Conservation District', 'Notes': 'First Occupant: Falconbridge, John D.\\r\\n\\r\\nFirst OccupantÂ´s Occupation: Lawyer (Cassels, Brock, Kelly)'}]\n"
     ]
    }
   ],
   "source": [
    "\n",
    "html = load_page(main_page)\n",
    "soup = BeautifulSoup(html)\n",
    "style_options = soup.find('select',{'name':'MainStyle'}).find_all('option')\n",
    "for style in style_options[1:]:\n",
    "    process_style(style.text)    \n"
   ]
  },
  {
   "cell_type": "code",
   "execution_count": null,
   "metadata": {},
   "outputs": [],
   "source": []
  },
  {
   "cell_type": "markdown",
   "metadata": {},
   "source": [
    "http://www.acotoronto.ca/search_buildingsDB_d2.php?MainStyle=Postmodern\n",
    "http://www.acotoronto.ca/search_buildingsDB_d2.php?MainStyle=Arts%20and%20Crafts\n",
    "http://www.acotoronto.ca/search_buildingsDB_d2.php?MainStyle=Annex%20Style"
   ]
  },
  {
   "cell_type": "code",
   "execution_count": 33,
   "metadata": {},
   "outputs": [],
   "source": [
    "bld_df = pd.DataFrame(buildings_list)"
   ]
  },
  {
   "cell_type": "code",
   "execution_count": 35,
   "metadata": {},
   "outputs": [],
   "source": [
    "bld_df.to_csv('../data/aco_buildings_'+ str(round(time.time(),0)) + '.csv')"
   ]
  },
  {
   "cell_type": "code",
   "execution_count": null,
   "metadata": {},
   "outputs": [],
   "source": [
    "#"
   ]
  },
  {
   "cell_type": "code",
   "execution_count": null,
   "metadata": {},
   "outputs": [],
   "source": []
  }
 ],
 "metadata": {
  "kernelspec": {
   "display_name": "Python 3",
   "language": "python",
   "name": "python3"
  },
  "language_info": {
   "codemirror_mode": {
    "name": "ipython",
    "version": 3
   },
   "file_extension": ".py",
   "mimetype": "text/x-python",
   "name": "python",
   "nbconvert_exporter": "python",
   "pygments_lexer": "ipython3",
   "version": "3.7.0"
  }
 },
 "nbformat": 4,
 "nbformat_minor": 2
}
